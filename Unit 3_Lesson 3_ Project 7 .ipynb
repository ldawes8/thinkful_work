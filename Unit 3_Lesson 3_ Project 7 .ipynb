{
 "cells": [
  {
   "cell_type": "code",
   "execution_count": 1,
   "metadata": {},
   "outputs": [],
   "source": [
    "import pandas as pd\n",
    "import numpy as np\n",
    "import matplotlib.pyplot as plt \n",
    "%matplotlib inline"
   ]
  },
  {
   "cell_type": "code",
   "execution_count": 10,
   "metadata": {
    "scrolled": true
   },
   "outputs": [
    {
     "data": {
      "image/png": "[encoded data removed]",
      "text/plain": [
       "<Figure size 432x288 with 1 Axes>"
      ]
     },
     "metadata": {
      "needs_background": "light"
     },
     "output_type": "display_data"
    },
    {
     "name": "stdout",
     "output_type": "stream",
     "text": [
      "1.91\n",
      "1.1410083259994206\n",
      "4.96\n",
      "1.6119553343687907\n"
     ]
    }
   ],
   "source": [
    "pop1 = np.random.binomial(10, 0.2, 10000)\n",
    "pop2 = np.random.binomial (10, 0.5, 10000)\n",
    "\n",
    "#Sample Size 100 (mean & std) \n",
    "\n",
    "sample1 = np.random.choice(pop1, 100, replace=True)\n",
    "sample2 = np.random.choice(pop2, 100, replace=True)\n",
    "plt.hist(sample1, label='sample 1') #Why is alpha needed here? \n",
    "plt.hist(sample2, label=\"sample 2\")\n",
    "plt.legend(loc='upper right')\n",
    "plt.show()\n",
    "print (sample1.mean())\n",
    "print (sample1.std())\n",
    "print (sample2.mean())\n",
    "print (sample2.std())"
   ]
  },
  {
   "cell_type": "code",
   "execution_count": 11,
   "metadata": {},
   "outputs": [
    {
     "data": {
      "image/png": "[encoded data removed]",
      "text/plain": [
       "<Figure size 432x288 with 1 Axes>"
      ]
     },
     "metadata": {
      "needs_background": "light"
     },
     "output_type": "display_data"
    },
    {
     "name": "stdout",
     "output_type": "stream",
     "text": [
      "1.978\n",
      "1.2551956022867512\n",
      "5.006\n",
      "1.6099577634211404\n"
     ]
    }
   ],
   "source": [
    "#Question 1 - INCREASE \n",
    "#If we increase the size of the sample size I expect that the mean will stay pretty much the same \n",
    "sample3 = np.random.choice(pop1, 1000, replace=True)\n",
    "sample4 = np.random.choice(pop2, 1000, replace=True)\n",
    "plt.hist(sample3, label='sample 3')\n",
    "plt.hist(sample4, label=\"sample 4\")\n",
    "plt.legend(loc='upper right')\n",
    "plt.show()\n",
    "print (sample3.mean())\n",
    "print (sample3.std())\n",
    "print (sample4.mean())\n",
    "print (sample4.std())"
   ]
  },
  {
   "cell_type": "code",
   "execution_count": 12,
   "metadata": {},
   "outputs": [
    {
     "data": {
      "image/png": "[encoded data removed]",
      "text/plain": [
       "<Figure size 432x288 with 1 Axes>"
      ]
     },
     "metadata": {
      "needs_background": "light"
     },
     "output_type": "display_data"
    },
    {
     "name": "stdout",
     "output_type": "stream",
     "text": [
      "1.5\n",
      "1.2449899597988732\n",
      "5.1\n",
      "1.1789826122551597\n"
     ]
    }
   ],
   "source": [
    "#Question 1 - DECREASE \n",
    "#If we decrease the size of the sample size I expect that the mean will stay pretty much the same \n",
    "sample4 = np.random.choice(pop1, 20, replace=True)\n",
    "sample5 = np.random.choice(pop2, 20, replace=True)\n",
    "plt.hist(sample4, label='sample 4')\n",
    "plt.hist(sample5, label=\"sample 5\")\n",
    "plt.legend(loc='upper right')\n",
    "plt.show()\n",
    "print (sample4.mean())\n",
    "print (sample4.std())\n",
    "print (sample5.mean())\n",
    "print (sample5.std())"
   ]
  },
  {
   "cell_type": "code",
   "execution_count": 15,
   "metadata": {},
   "outputs": [
    {
     "name": "stdout",
     "output_type": "stream",
     "text": [
      "0.282\n",
      "0.49000000000000005\n"
     ]
    }
   ],
   "source": [
    "# Question 2 - Change of P Value \n",
    "\n",
    "newpop1 = np.random.binomial(10, 0.3, 10000)\n",
    "pop2 = np.random.binomial (10, 0.5, 10000)\n",
    "\n",
    "samplea = np.random.choice(newpop1, 100, replace=True)\n",
    "sampleb = np.random.choice(pop2, 100, replace=True)\n",
    "\n",
    "p_valuea = samplea.mean()/10\n",
    "print(p_valuea)\n",
    "\n",
    "p_valueb = sampleb.mean()/10\n",
    "print(p_valueb)\n"
   ]
  },
  {
   "cell_type": "code",
   "execution_count": 18,
   "metadata": {},
   "outputs": [
    {
     "name": "stdout",
     "output_type": "stream",
     "text": [
      "Ttest_indResult(statistic=-9.508275071369507, pvalue=8.095981483563678e-18)\n",
      "Ttest_indResult(statistic=9.508275071369507, pvalue=8.095981483563678e-18)\n"
     ]
    }
   ],
   "source": [
    "# Question 2 - T Statistic \n",
    "\n",
    "from scipy.stats import ttest_ind\n",
    "print (ttest_ind(samplea, sampleb, equal_var=False)) #why does this print a negative value?\n",
    "print (ttest_ind(sampleb, samplea, equal_var=False))"
   ]
  },
  {
   "cell_type": "code",
   "execution_count": 19,
   "metadata": {},
   "outputs": [
    {
     "name": "stdout",
     "output_type": "stream",
     "text": [
      "0.391\n",
      "0.48200000000000004\n"
     ]
    }
   ],
   "source": [
    "# Question 2 - Repeat with p_value = 0.4 \n",
    "popa = np.random.binomial(10, 0.4, 10000)\n",
    "popb = np.random.binomial (10, 0.5, 10000)\n",
    "\n",
    "samplec = np.random.choice(popa, 100, replace=True)\n",
    "sampled = np.random.choice(popb, 100, replace=True)\n",
    "\n",
    "p_valuec = samplec.mean()/10\n",
    "print(p_valuec)\n",
    "\n",
    "p_valued = sampled.mean()/10\n",
    "print(p_valued)"
   ]
  },
  {
   "cell_type": "code",
   "execution_count": 20,
   "metadata": {},
   "outputs": [
    {
     "name": "stdout",
     "output_type": "stream",
     "text": [
      "Ttest_indResult(statistic=-4.120101398221716, pvalue=5.648055670890522e-05)\n",
      "Ttest_indResult(statistic=4.120101398221716, pvalue=5.648055670890522e-05)\n"
     ]
    }
   ],
   "source": [
    "# Question 2 - p_value = 0.4  \n",
    "\n",
    "print (ttest_ind(samplec, sampled, equal_var=False)) #why does this print a negative value?\n",
    "print (ttest_ind(sampled, samplec, equal_var=False))"
   ]
  },
  {
   "cell_type": "code",
   "execution_count": 21,
   "metadata": {
    "scrolled": true
   },
   "outputs": [
    {
     "data": {
      "image/png": "[encoded data removed]",
      "text/plain": [
       "<Figure size 432x288 with 1 Axes>"
      ]
     },
     "metadata": {
      "needs_background": "light"
     },
     "output_type": "display_data"
    },
    {
     "name": "stdout",
     "output_type": "stream",
     "text": [
      "9.981009091261953\n",
      "0.438807621016639\n",
      "9.986784011414422\n",
      "0.5319891287077008\n"
     ]
    }
   ],
   "source": [
    "# Question 4 Change Distribution\n",
    "\n",
    "pop_norm = np.random.normal(10, 0.2, 10000)\n",
    "pop_norm = np.random.normal (10, 0.5, 10000)\n",
    "\n",
    "#Sample Size 100 (mean & std) \n",
    "\n",
    "sample_norm1 = np.random.choice(pop_norm, 100, replace=True)\n",
    "sample_norm2 = np.random.choice(pop_norm, 100, replace=True)\n",
    "plt.hist(sample_norm1, label='sample_norm 1')\n",
    "plt.hist(sample_norm2, label=\"sample_norm 2\")\n",
    "plt.legend(loc='upper right')\n",
    "plt.show()\n",
    "print (sample_norm1.mean())\n",
    "print (sample_norm1.std())\n",
    "print (sample_norm2.mean())\n",
    "print (sample_norm2.std())"
   ]
  },
  {
   "cell_type": "code",
   "execution_count": null,
   "metadata": {},
   "outputs": [],
   "source": [
    "#Original Values for Comparison \n",
    "#1.91\n",
    "#1.1410083259994206\n",
    "#4.96\n",
    "#1.6119553343687907"
   ]
  }
 ],
 "metadata": {
  "kernelspec": {
   "display_name": "Python 3",
   "language": "python",
   "name": "python3"
  },
  "language_info": {
   "codemirror_mode": {
    "name": "ipython",
    "version": 3
   },
   "file_extension": ".py",
   "mimetype": "text/x-python",
   "name": "python",
   "nbconvert_exporter": "python",
   "pygments_lexer": "ipython3",
   "version": "3.7.2"
  }
 },
 "nbformat": 4,
 "nbformat_minor": 2
}
