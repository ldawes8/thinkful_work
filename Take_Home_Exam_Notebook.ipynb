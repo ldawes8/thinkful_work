{
  "nbformat": 4,
  "nbformat_minor": 0,
  "metadata": {
    "colab": {
      "name": "Take Home Exam Notebook",
      "version": "0.3.2",
      "provenance": [],
      "collapsed_sections": [],
      "include_colab_link": true
    },
    "kernelspec": {
      "name": "python3",
      "display_name": "Python 3"
    }
  },
  "cells": [
    {
      "cell_type": "markdown",
      "metadata": {
        "id": "view-in-github",
        "colab_type": "text"
      },
      "source": [
        "<a href=\"https://colab.research.google.com/github/ldawes8/thinkful_work/blob/master/Take_Home_Exam_Notebook.ipynb\" target=\"_parent\"><img src=\"https://colab.research.google.com/assets/colab-badge.svg\" alt=\"Open In Colab\"/></a>"
      ]
    },
    {
      "cell_type": "code",
      "metadata": {
        "id": "ydcv2QmXoHch",
        "colab_type": "code",
        "colab": {}
      },
      "source": [
        "#Import Libraries \n",
        "import tweepy\n",
        "import numpy as np\n",
        "import pandas as pd\n",
        "import matplotlib.pyplot as plt\n",
        "import seaborn as sns\n",
        "import math\n",
        "import json\n",
        "from collections import Counter\n",
        "import re\n",
        "import spacy\n",
        "\n",
        "%matplotlib inline\n",
        "from sklearn import ensemble\n",
        "from sklearn.feature_extraction.text import TfidfVectorizer\n",
        "from sklearn.svm import SVC\n",
        "from sklearn.linear_model import LogisticRegression\n",
        "from sklearn.neighbors import KNeighborsClassifier\n",
        "from sklearn import neural_network\n",
        "from sklearn.model_selection import GridSearchCV\n",
        "\n",
        "from sklearn.model_selection import train_test_split\n",
        "from sklearn.preprocessing import normalize\n",
        "from sklearn.decomposition import PCA\n",
        "from sklearn.cluster import MeanShift, estimate_bandwidth\n",
        "from sklearn.cluster import KMeans, MiniBatchKMeans\n",
        "from sklearn import metrics\n",
        "from time import time\n",
        "from sklearn.metrics import confusion_matrix\n",
        "from sklearn.metrics.pairwise import cosine_similarity\n",
        "\n",
        "from sklearn.decomposition import TruncatedSVD\n",
        "from sklearn.pipeline import make_pipeline\n",
        "from sklearn.preprocessing import Normalizer\n",
        "from sklearn.utils import shuffle\n",
        "\n",
        "#import gensim\n",
        "#from gensim import corpora, models, similarities\n",
        "#import pyLDAvis.gensim as gensimvis\n",
        "#import pyLDAvis\n",
        "\n",
        "import warnings\n",
        "warnings.filterwarnings(\"ignore\", category=DeprecationWarning)"
      ],
      "execution_count": 0,
      "outputs": []
    },
    {
      "cell_type": "markdown",
      "metadata": {
        "id": "wimI5W4Cu0t1",
        "colab_type": "text"
      },
      "source": [
        "**IMPORT DATA**"
      ]
    },
    {
      "cell_type": "code",
      "metadata": {
        "id": "4Xc3mi0roUky",
        "colab_type": "code",
        "colab": {
          "resources": {
            "http://localhost:8080/nbextensions/google.colab/files.js": {
              "data": "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",
              "ok": true,
              "headers": [
                [
                  "content-type",
                  "application/javascript"
                ]
              ],
              "status": 200,
              "status_text": ""
            }
          },
          "base_uri": "https://localhost:8080/",
          "height": 71
        },
        "outputId": "d6b18e89-530a-4ced-9786-5f688e423d40"
      },
      "source": [
        "#Import File\n",
        "from google.colab import files\n",
        "uploaded = files.upload()"
      ],
      "execution_count": 118,
      "outputs": [
        {
          "output_type": "display_data",
          "data": {
            "text/html": [
              "\n",
              "     <input type=\"file\" id=\"files-ee254332-e426-4bdd-95a4-1259ebfa0d1c\" name=\"files[]\" multiple disabled />\n",
              "     <output id=\"result-ee254332-e426-4bdd-95a4-1259ebfa0d1c\">\n",
              "      Upload widget is only available when the cell has been executed in the\n",
              "      current browser session. Please rerun this cell to enable.\n",
              "      </output>\n",
              "      <script src=\"/nbextensions/google.colab/files.js\"></script> "
            ],
            "text/plain": [
              "<IPython.core.display.HTML object>"
            ]
          },
          "metadata": {
            "tags": []
          }
        },
        {
          "output_type": "stream",
          "text": [
            "Saving take_homecustomers_data.csv to take_homecustomers_data (3).csv\n"
          ],
          "name": "stdout"
        }
      ]
    },
    {
      "cell_type": "code",
      "metadata": {
        "id": "6v5C-VfUoUnW",
        "colab_type": "code",
        "colab": {}
      },
      "source": [
        "import io\n",
        "df = pd.read_csv(io.BytesIO(uploaded['take_homecustomers_data.csv']), header=0)\n",
        "colnames = ['drop', 'purch_amt', 'gender', 'card_on_file', 'age', 'days_since_last_purch', 'loyalty']\n",
        "df.columns=colnames"
      ],
      "execution_count": 0,
      "outputs": []
    },
    {
      "cell_type": "markdown",
      "metadata": {
        "id": "YxXKwJOgu-cJ",
        "colab_type": "text"
      },
      "source": [
        "**DATA EXPLORATION - INITIAL**"
      ]
    },
    {
      "cell_type": "code",
      "metadata": {
        "id": "CDCGE0XxoUpz",
        "colab_type": "code",
        "colab": {
          "base_uri": "https://localhost:8080/",
          "height": 204
        },
        "outputId": "c01075c8-a56f-40e6-bc26-96cb42ba434a"
      },
      "source": [
        "#Take an initial look at the data\n",
        "df.head()"
      ],
      "execution_count": 120,
      "outputs": [
        {
          "output_type": "execute_result",
          "data": {
            "text/html": [
              "<div>\n",
              "<style scoped>\n",
              "    .dataframe tbody tr th:only-of-type {\n",
              "        vertical-align: middle;\n",
              "    }\n",
              "\n",
              "    .dataframe tbody tr th {\n",
              "        vertical-align: top;\n",
              "    }\n",
              "\n",
              "    .dataframe thead th {\n",
              "        text-align: right;\n",
              "    }\n",
              "</style>\n",
              "<table border=\"1\" class=\"dataframe\">\n",
              "  <thead>\n",
              "    <tr style=\"text-align: right;\">\n",
              "      <th></th>\n",
              "      <th>drop</th>\n",
              "      <th>purch_amt</th>\n",
              "      <th>gender</th>\n",
              "      <th>card_on_file</th>\n",
              "      <th>age</th>\n",
              "      <th>days_since_last_purch</th>\n",
              "      <th>loyalty</th>\n",
              "    </tr>\n",
              "  </thead>\n",
              "  <tbody>\n",
              "    <tr>\n",
              "      <th>0</th>\n",
              "      <td>0</td>\n",
              "      <td>19.58</td>\n",
              "      <td>male</td>\n",
              "      <td>no</td>\n",
              "      <td>31.0</td>\n",
              "      <td>35.0</td>\n",
              "      <td>False</td>\n",
              "    </tr>\n",
              "    <tr>\n",
              "      <th>1</th>\n",
              "      <td>1</td>\n",
              "      <td>65.16</td>\n",
              "      <td>male</td>\n",
              "      <td>yes</td>\n",
              "      <td>23.0</td>\n",
              "      <td>61.0</td>\n",
              "      <td>False</td>\n",
              "    </tr>\n",
              "    <tr>\n",
              "      <th>2</th>\n",
              "      <td>2</td>\n",
              "      <td>40.60</td>\n",
              "      <td>female</td>\n",
              "      <td>no</td>\n",
              "      <td>36.0</td>\n",
              "      <td>49.0</td>\n",
              "      <td>False</td>\n",
              "    </tr>\n",
              "    <tr>\n",
              "      <th>3</th>\n",
              "      <td>3</td>\n",
              "      <td>38.01</td>\n",
              "      <td>male</td>\n",
              "      <td>yes</td>\n",
              "      <td>47.0</td>\n",
              "      <td>57.0</td>\n",
              "      <td>False</td>\n",
              "    </tr>\n",
              "    <tr>\n",
              "      <th>4</th>\n",
              "      <td>4</td>\n",
              "      <td>22.32</td>\n",
              "      <td>female</td>\n",
              "      <td>yes</td>\n",
              "      <td>5.0</td>\n",
              "      <td>39.0</td>\n",
              "      <td>False</td>\n",
              "    </tr>\n",
              "  </tbody>\n",
              "</table>\n",
              "</div>"
            ],
            "text/plain": [
              "   drop  purch_amt  gender card_on_file   age  days_since_last_purch  loyalty\n",
              "0     0      19.58    male           no  31.0                   35.0    False\n",
              "1     1      65.16    male          yes  23.0                   61.0    False\n",
              "2     2      40.60  female           no  36.0                   49.0    False\n",
              "3     3      38.01    male          yes  47.0                   57.0    False\n",
              "4     4      22.32  female          yes   5.0                   39.0    False"
            ]
          },
          "metadata": {
            "tags": []
          },
          "execution_count": 120
        }
      ]
    },
    {
      "cell_type": "code",
      "metadata": {
        "id": "A5nce6eEpaew",
        "colab_type": "code",
        "colab": {
          "base_uri": "https://localhost:8080/",
          "height": 34
        },
        "outputId": "9ce0bd37-1895-4106-a9b3-5b9849c3ebb3"
      },
      "source": [
        "#Take an initial look at the shape of the data \n",
        "print(df.shape)"
      ],
      "execution_count": 121,
      "outputs": [
        {
          "output_type": "stream",
          "text": [
            "(120000, 7)\n"
          ],
          "name": "stdout"
        }
      ]
    },
    {
      "cell_type": "code",
      "metadata": {
        "id": "R4VgmyqLsmV0",
        "colab_type": "code",
        "colab": {
          "base_uri": "https://localhost:8080/",
          "height": 221
        },
        "outputId": "787ca028-4f6b-4417-b0e8-f365eb5f4b04"
      },
      "source": [
        "df.info()"
      ],
      "execution_count": 122,
      "outputs": [
        {
          "output_type": "stream",
          "text": [
            "<class 'pandas.core.frame.DataFrame'>\n",
            "RangeIndex: 120000 entries, 0 to 119999\n",
            "Data columns (total 7 columns):\n",
            "drop                     120000 non-null int64\n",
            "purch_amt                120000 non-null float64\n",
            "gender                   120000 non-null object\n",
            "card_on_file             120000 non-null object\n",
            "age                      120000 non-null float64\n",
            "days_since_last_purch    120000 non-null float64\n",
            "loyalty                  120000 non-null bool\n",
            "dtypes: bool(1), float64(3), int64(1), object(2)\n",
            "memory usage: 5.6+ MB\n"
          ],
          "name": "stdout"
        }
      ]
    },
    {
      "cell_type": "code",
      "metadata": {
        "id": "0LGkjDx0x7by",
        "colab_type": "code",
        "colab": {
          "base_uri": "https://localhost:8080/",
          "height": 170
        },
        "outputId": "0bd0892e-6dc0-4777-f371-444e80483c36"
      },
      "source": [
        "# Count of missing values\n",
        "print (df.isnull().sum())\n",
        "print('The dataset has no null values!')"
      ],
      "execution_count": 123,
      "outputs": [
        {
          "output_type": "stream",
          "text": [
            "drop                     0\n",
            "purch_amt                0\n",
            "gender                   0\n",
            "card_on_file             0\n",
            "age                      0\n",
            "days_since_last_purch    0\n",
            "loyalty                  0\n",
            "dtype: int64\n",
            "The dataset has no null values!\n"
          ],
          "name": "stdout"
        }
      ]
    },
    {
      "cell_type": "markdown",
      "metadata": {
        "id": "9FG5dw2BvKSb",
        "colab_type": "text"
      },
      "source": [
        "**DATA CLEANING**"
      ]
    },
    {
      "cell_type": "code",
      "metadata": {
        "id": "KHEEp0dzoUvG",
        "colab_type": "code",
        "colab": {}
      },
      "source": [
        "#Drop the unnecessary columns\n",
        "df = df.drop(columns = ['drop'])"
      ],
      "execution_count": 0,
      "outputs": []
    },
    {
      "cell_type": "code",
      "metadata": {
        "id": "t_xndMcHsxay",
        "colab_type": "code",
        "colab": {}
      },
      "source": [
        "#Convert Gender and Card_on_file to binary values \n",
        "df['gender'] = df['gender'].map({'male':1,'female':0})\n",
        "df['card_on_file'] = df['card_on_file'].map({'yes':1,'no':0})"
      ],
      "execution_count": 0,
      "outputs": []
    },
    {
      "cell_type": "code",
      "metadata": {
        "id": "iuUwx5-3tiGK",
        "colab_type": "code",
        "colab": {}
      },
      "source": [
        "#Converting the loyalty column (dependent/target variable) to a categorical \n",
        "#column \n",
        "df[\"loyalty\"] = df['loyalty'].astype('category')"
      ],
      "execution_count": 0,
      "outputs": []
    },
    {
      "cell_type": "code",
      "metadata": {
        "id": "vBx1Wj1AuggW",
        "colab_type": "code",
        "colab": {
          "base_uri": "https://localhost:8080/",
          "height": 204
        },
        "outputId": "45252afd-a824-41e1-cfb8-0efb4f7fd58f"
      },
      "source": [
        "df.head()"
      ],
      "execution_count": 127,
      "outputs": [
        {
          "output_type": "execute_result",
          "data": {
            "text/html": [
              "<div>\n",
              "<style scoped>\n",
              "    .dataframe tbody tr th:only-of-type {\n",
              "        vertical-align: middle;\n",
              "    }\n",
              "\n",
              "    .dataframe tbody tr th {\n",
              "        vertical-align: top;\n",
              "    }\n",
              "\n",
              "    .dataframe thead th {\n",
              "        text-align: right;\n",
              "    }\n",
              "</style>\n",
              "<table border=\"1\" class=\"dataframe\">\n",
              "  <thead>\n",
              "    <tr style=\"text-align: right;\">\n",
              "      <th></th>\n",
              "      <th>purch_amt</th>\n",
              "      <th>gender</th>\n",
              "      <th>card_on_file</th>\n",
              "      <th>age</th>\n",
              "      <th>days_since_last_purch</th>\n",
              "      <th>loyalty</th>\n",
              "    </tr>\n",
              "  </thead>\n",
              "  <tbody>\n",
              "    <tr>\n",
              "      <th>0</th>\n",
              "      <td>19.58</td>\n",
              "      <td>1</td>\n",
              "      <td>0</td>\n",
              "      <td>31.0</td>\n",
              "      <td>35.0</td>\n",
              "      <td>False</td>\n",
              "    </tr>\n",
              "    <tr>\n",
              "      <th>1</th>\n",
              "      <td>65.16</td>\n",
              "      <td>1</td>\n",
              "      <td>1</td>\n",
              "      <td>23.0</td>\n",
              "      <td>61.0</td>\n",
              "      <td>False</td>\n",
              "    </tr>\n",
              "    <tr>\n",
              "      <th>2</th>\n",
              "      <td>40.60</td>\n",
              "      <td>0</td>\n",
              "      <td>0</td>\n",
              "      <td>36.0</td>\n",
              "      <td>49.0</td>\n",
              "      <td>False</td>\n",
              "    </tr>\n",
              "    <tr>\n",
              "      <th>3</th>\n",
              "      <td>38.01</td>\n",
              "      <td>1</td>\n",
              "      <td>1</td>\n",
              "      <td>47.0</td>\n",
              "      <td>57.0</td>\n",
              "      <td>False</td>\n",
              "    </tr>\n",
              "    <tr>\n",
              "      <th>4</th>\n",
              "      <td>22.32</td>\n",
              "      <td>0</td>\n",
              "      <td>1</td>\n",
              "      <td>5.0</td>\n",
              "      <td>39.0</td>\n",
              "      <td>False</td>\n",
              "    </tr>\n",
              "  </tbody>\n",
              "</table>\n",
              "</div>"
            ],
            "text/plain": [
              "   purch_amt  gender  card_on_file   age  days_since_last_purch loyalty\n",
              "0      19.58       1             0  31.0                   35.0   False\n",
              "1      65.16       1             1  23.0                   61.0   False\n",
              "2      40.60       0             0  36.0                   49.0   False\n",
              "3      38.01       1             1  47.0                   57.0   False\n",
              "4      22.32       0             1   5.0                   39.0   False"
            ]
          },
          "metadata": {
            "tags": []
          },
          "execution_count": 127
        }
      ]
    },
    {
      "cell_type": "markdown",
      "metadata": {
        "id": "SU4HOq6RwA-1",
        "colab_type": "text"
      },
      "source": [
        "**DATA EXPLORATION - POST CLEANING**"
      ]
    },
    {
      "cell_type": "code",
      "metadata": {
        "id": "2J9ODTGdwIgd",
        "colab_type": "code",
        "colab": {
          "base_uri": "https://localhost:8080/",
          "height": 85
        },
        "outputId": "8ea45924-dceb-4a7f-bb03-1d66a503df80"
      },
      "source": [
        "#Let's see how many customers are considered \"loyal\"\n",
        "print(df['loyalty'].value_counts())\n",
        "print('There are a total of 120,000 customers - only 20,000 are considered \"loyal\"')"
      ],
      "execution_count": 128,
      "outputs": [
        {
          "output_type": "stream",
          "text": [
            "False    100000\n",
            "True      20000\n",
            "Name: loyalty, dtype: int64\n",
            "There are a total of 120,000 customers - only 20,000 are considered \"loyal\"\n"
          ],
          "name": "stdout"
        }
      ]
    },
    {
      "cell_type": "code",
      "metadata": {
        "id": "Agb7Q6EuwyaT",
        "colab_type": "code",
        "colab": {
          "base_uri": "https://localhost:8080/",
          "height": 85
        },
        "outputId": "3175669b-86a7-4e33-f9b9-1dcef7721999"
      },
      "source": [
        "#Let's assess the male/female split\"\n",
        "print(df['gender'].value_counts())\n",
        "print('There are 362 more males in the dataset')"
      ],
      "execution_count": 129,
      "outputs": [
        {
          "output_type": "stream",
          "text": [
            "1    60181\n",
            "0    59819\n",
            "Name: gender, dtype: int64\n",
            "There are 362 more males in the dataset\n"
          ],
          "name": "stdout"
        }
      ]
    },
    {
      "cell_type": "code",
      "metadata": {
        "id": "4-BnMFTp0PBz",
        "colab_type": "code",
        "colab": {
          "base_uri": "https://localhost:8080/",
          "height": 85
        },
        "outputId": "5a8ba403-0605-4909-f0fc-9752b473e750"
      },
      "source": [
        "#Let's assess the male/female split\"\n",
        "print(df['card_on_file'].value_counts())\n",
        "print('It is pretty much a 50:50 split between customers with a card on file vs. customers without a card on file')"
      ],
      "execution_count": 130,
      "outputs": [
        {
          "output_type": "stream",
          "text": [
            "1    60087\n",
            "0    59913\n",
            "Name: card_on_file, dtype: int64\n",
            "It is pretty much a 50:50 split between customers with a card on file vs. customers without a card on file\n"
          ],
          "name": "stdout"
        }
      ]
    },
    {
      "cell_type": "code",
      "metadata": {
        "id": "pa6LpY0GwojU",
        "colab_type": "code",
        "colab": {
          "base_uri": "https://localhost:8080/",
          "height": 204
        },
        "outputId": "4b39f473-e757-48a5-a761-98d4afba9b36"
      },
      "source": [
        "df.describe().transpose()"
      ],
      "execution_count": 131,
      "outputs": [
        {
          "output_type": "execute_result",
          "data": {
            "text/html": [
              "<div>\n",
              "<style scoped>\n",
              "    .dataframe tbody tr th:only-of-type {\n",
              "        vertical-align: middle;\n",
              "    }\n",
              "\n",
              "    .dataframe tbody tr th {\n",
              "        vertical-align: top;\n",
              "    }\n",
              "\n",
              "    .dataframe thead th {\n",
              "        text-align: right;\n",
              "    }\n",
              "</style>\n",
              "<table border=\"1\" class=\"dataframe\">\n",
              "  <thead>\n",
              "    <tr style=\"text-align: right;\">\n",
              "      <th></th>\n",
              "      <th>count</th>\n",
              "      <th>mean</th>\n",
              "      <th>std</th>\n",
              "      <th>min</th>\n",
              "      <th>25%</th>\n",
              "      <th>50%</th>\n",
              "      <th>75%</th>\n",
              "      <th>max</th>\n",
              "    </tr>\n",
              "  </thead>\n",
              "  <tbody>\n",
              "    <tr>\n",
              "      <th>purch_amt</th>\n",
              "      <td>120000.0</td>\n",
              "      <td>44.036234</td>\n",
              "      <td>20.473148</td>\n",
              "      <td>-43.95</td>\n",
              "      <td>30.21</td>\n",
              "      <td>43.97</td>\n",
              "      <td>57.83</td>\n",
              "      <td>142.2</td>\n",
              "    </tr>\n",
              "    <tr>\n",
              "      <th>gender</th>\n",
              "      <td>120000.0</td>\n",
              "      <td>0.501508</td>\n",
              "      <td>0.500000</td>\n",
              "      <td>0.00</td>\n",
              "      <td>0.00</td>\n",
              "      <td>1.00</td>\n",
              "      <td>1.00</td>\n",
              "      <td>1.0</td>\n",
              "    </tr>\n",
              "    <tr>\n",
              "      <th>card_on_file</th>\n",
              "      <td>120000.0</td>\n",
              "      <td>0.500725</td>\n",
              "      <td>0.500002</td>\n",
              "      <td>0.00</td>\n",
              "      <td>0.00</td>\n",
              "      <td>1.00</td>\n",
              "      <td>1.00</td>\n",
              "      <td>1.0</td>\n",
              "    </tr>\n",
              "    <tr>\n",
              "      <th>age</th>\n",
              "      <td>120000.0</td>\n",
              "      <td>25.803008</td>\n",
              "      <td>10.153072</td>\n",
              "      <td>-22.00</td>\n",
              "      <td>19.00</td>\n",
              "      <td>26.00</td>\n",
              "      <td>33.00</td>\n",
              "      <td>71.0</td>\n",
              "    </tr>\n",
              "    <tr>\n",
              "      <th>days_since_last_purch</th>\n",
              "      <td>120000.0</td>\n",
              "      <td>56.605908</td>\n",
              "      <td>16.422187</td>\n",
              "      <td>-9.00</td>\n",
              "      <td>45.00</td>\n",
              "      <td>57.00</td>\n",
              "      <td>68.00</td>\n",
              "      <td>125.0</td>\n",
              "    </tr>\n",
              "  </tbody>\n",
              "</table>\n",
              "</div>"
            ],
            "text/plain": [
              "                          count       mean        std  ...    50%    75%    max\n",
              "purch_amt              120000.0  44.036234  20.473148  ...  43.97  57.83  142.2\n",
              "gender                 120000.0   0.501508   0.500000  ...   1.00   1.00    1.0\n",
              "card_on_file           120000.0   0.500725   0.500002  ...   1.00   1.00    1.0\n",
              "age                    120000.0  25.803008  10.153072  ...  26.00  33.00   71.0\n",
              "days_since_last_purch  120000.0  56.605908  16.422187  ...  57.00  68.00  125.0\n",
              "\n",
              "[5 rows x 8 columns]"
            ]
          },
          "metadata": {
            "tags": []
          },
          "execution_count": 131
        }
      ]
    },
    {
      "cell_type": "markdown",
      "metadata": {
        "id": "pADLziDNxMzo",
        "colab_type": "text"
      },
      "source": [
        "* The average purchase amount is $44. \n",
        "* The average age of the customers is ~26 years of age.\n",
        "* The average days since last purchase is ~57. \n",
        "\n",
        "\n",
        "\n"
      ]
    },
    {
      "cell_type": "code",
      "metadata": {
        "id": "VrErK_jN01Si",
        "colab_type": "code",
        "colab": {
          "base_uri": "https://localhost:8080/",
          "height": 1000
        },
        "outputId": "ab20deb9-1d5c-4129-c12e-90ff84d7db35"
      },
      "source": [
        "#Taking a deeper look at what makes a customer \"loyal\"\n",
        "loyal_df = df[df['loyalty']== True]\n",
        "print(loyal_df)"
      ],
      "execution_count": 132,
      "outputs": [
        {
          "output_type": "stream",
          "text": [
            "        purch_amt  gender  card_on_file   age  days_since_last_purch loyalty\n",
            "9           93.63       0             0  40.0                   47.0    True\n",
            "13          64.91       1             1  22.0                   59.0    True\n",
            "23          11.55       1             0  21.0                   53.0    True\n",
            "28          40.64       0             0  20.0                   29.0    True\n",
            "35          64.07       1             0  10.0                   62.0    True\n",
            "40          26.35       0             0  39.0                   39.0    True\n",
            "48          99.03       1             0  39.0                   51.0    True\n",
            "57          58.56       1             1  35.0                   37.0    True\n",
            "59          53.40       0             1  37.0                   22.0    True\n",
            "62          57.56       0             1  34.0                   52.0    True\n",
            "63          52.23       0             1  41.0                   30.0    True\n",
            "65          38.83       0             1  27.0                   46.0    True\n",
            "68          75.09       1             0  29.0                   60.0    True\n",
            "71          51.97       0             0  29.0                   49.0    True\n",
            "80          44.13       1             1  54.0                   33.0    True\n",
            "85          66.97       1             1  25.0                   57.0    True\n",
            "88          75.89       1             1  42.0                   28.0    True\n",
            "89          73.12       0             0  17.0                   31.0    True\n",
            "96          79.32       1             1  32.0                   63.0    True\n",
            "106         55.44       0             1  28.0                   55.0    True\n",
            "120         42.77       0             1  19.0                   42.0    True\n",
            "125         56.28       0             1  23.0                   38.0    True\n",
            "129         58.96       0             1  18.0                   54.0    True\n",
            "133         89.35       0             1   4.0                   28.0    True\n",
            "138         86.02       0             0  27.0                   27.0    True\n",
            "140         31.67       1             1  22.0                   44.0    True\n",
            "151         84.72       0             1  45.0                   54.0    True\n",
            "158         49.64       0             1  28.0                   56.0    True\n",
            "169         45.19       1             1  24.0                   46.0    True\n",
            "171         72.87       0             1  41.0                   44.0    True\n",
            "...           ...     ...           ...   ...                    ...     ...\n",
            "119832      67.21       0             1  22.0                   39.0    True\n",
            "119834      74.27       1             1  31.0                   48.0    True\n",
            "119836      23.04       0             1  29.0                   32.0    True\n",
            "119847      49.23       0             0  21.0                   39.0    True\n",
            "119856      48.27       1             1  45.0                   46.0    True\n",
            "119861      27.46       0             0  17.0                   65.0    True\n",
            "119863      50.58       0             1  33.0                   52.0    True\n",
            "119864      64.27       0             1  28.0                   52.0    True\n",
            "119866      90.01       0             1  36.0                   36.0    True\n",
            "119876      80.72       0             0  34.0                   34.0    True\n",
            "119879      46.94       1             0  27.0                   39.0    True\n",
            "119882      54.18       1             1  25.0                   61.0    True\n",
            "119885      68.63       1             1  45.0                   45.0    True\n",
            "119888      83.19       1             0  33.0                   21.0    True\n",
            "119897      59.16       1             1  36.0                   41.0    True\n",
            "119911      49.26       1             1  15.0                   39.0    True\n",
            "119922      32.62       0             1  42.0                   44.0    True\n",
            "119926      72.56       1             0  38.0                   63.0    True\n",
            "119936      49.10       0             0  40.0                   43.0    True\n",
            "119942      72.87       0             1  24.0                   29.0    True\n",
            "119947      68.20       1             0  40.0                   42.0    True\n",
            "119954       7.55       1             0  32.0                   40.0    True\n",
            "119959      52.99       1             0  28.0                   48.0    True\n",
            "119961      67.48       0             0  30.0                   31.0    True\n",
            "119965      33.12       0             1  36.0                   39.0    True\n",
            "119969      18.17       1             1  33.0                   39.0    True\n",
            "119970      49.51       1             0  18.0                   26.0    True\n",
            "119972      41.57       0             0  52.0                   35.0    True\n",
            "119978      51.91       0             0  28.0                   51.0    True\n",
            "119990      33.72       1             0  32.0                   27.0    True\n",
            "\n",
            "[20000 rows x 6 columns]\n"
          ],
          "name": "stdout"
        }
      ]
    },
    {
      "cell_type": "code",
      "metadata": {
        "id": "RPxZif_q18dy",
        "colab_type": "code",
        "colab": {
          "base_uri": "https://localhost:8080/",
          "height": 85
        },
        "outputId": "5a61378e-6a70-43da-de00-0f3bab9966cf"
      },
      "source": [
        "#Let's assess the male/female split of \"loyal customers\"\n",
        "print(loyal_df['gender'].value_counts())\n",
        "print('There are 186 more \"loyal\" males in the dataset')"
      ],
      "execution_count": 133,
      "outputs": [
        {
          "output_type": "stream",
          "text": [
            "1    10093\n",
            "0     9907\n",
            "Name: gender, dtype: int64\n",
            "There are 186 more \"loyal\" males in the dataset\n"
          ],
          "name": "stdout"
        }
      ]
    },
    {
      "cell_type": "code",
      "metadata": {
        "id": "vi6U5ELd2PR5",
        "colab_type": "code",
        "colab": {
          "base_uri": "https://localhost:8080/",
          "height": 85
        },
        "outputId": "ded43ac7-0dcb-4fb0-fb5b-8a71c8f861d0"
      },
      "source": [
        "#Let's assess the male/female split of \"loyal customers\"\n",
        "print(loyal_df['card_on_file'].value_counts())\n",
        "print('It is pretty much a 50:50 split between loyal customers with a card on file vs. customers without a card on file')"
      ],
      "execution_count": 134,
      "outputs": [
        {
          "output_type": "stream",
          "text": [
            "1    10003\n",
            "0     9997\n",
            "Name: card_on_file, dtype: int64\n",
            "It is pretty much a 50:50 split between loyal customers with a card on file vs. customers without a card on file\n"
          ],
          "name": "stdout"
        }
      ]
    },
    {
      "cell_type": "code",
      "metadata": {
        "id": "6Q5AJE9F2iC5",
        "colab_type": "code",
        "colab": {
          "base_uri": "https://localhost:8080/",
          "height": 204
        },
        "outputId": "74ae32ff-cf4a-4590-a9b9-091ccb4b9c73"
      },
      "source": [
        "loyal_df.describe().transpose()"
      ],
      "execution_count": 135,
      "outputs": [
        {
          "output_type": "execute_result",
          "data": {
            "text/html": [
              "<div>\n",
              "<style scoped>\n",
              "    .dataframe tbody tr th:only-of-type {\n",
              "        vertical-align: middle;\n",
              "    }\n",
              "\n",
              "    .dataframe tbody tr th {\n",
              "        vertical-align: top;\n",
              "    }\n",
              "\n",
              "    .dataframe thead th {\n",
              "        text-align: right;\n",
              "    }\n",
              "</style>\n",
              "<table border=\"1\" class=\"dataframe\">\n",
              "  <thead>\n",
              "    <tr style=\"text-align: right;\">\n",
              "      <th></th>\n",
              "      <th>count</th>\n",
              "      <th>mean</th>\n",
              "      <th>std</th>\n",
              "      <th>min</th>\n",
              "      <th>25%</th>\n",
              "      <th>50%</th>\n",
              "      <th>75%</th>\n",
              "      <th>max</th>\n",
              "    </tr>\n",
              "  </thead>\n",
              "  <tbody>\n",
              "    <tr>\n",
              "      <th>purch_amt</th>\n",
              "      <td>20000.0</td>\n",
              "      <td>53.933842</td>\n",
              "      <td>20.072442</td>\n",
              "      <td>-28.83</td>\n",
              "      <td>40.45</td>\n",
              "      <td>54.17</td>\n",
              "      <td>67.4125</td>\n",
              "      <td>142.2</td>\n",
              "    </tr>\n",
              "    <tr>\n",
              "      <th>gender</th>\n",
              "      <td>20000.0</td>\n",
              "      <td>0.504650</td>\n",
              "      <td>0.499991</td>\n",
              "      <td>0.00</td>\n",
              "      <td>0.00</td>\n",
              "      <td>1.00</td>\n",
              "      <td>1.0000</td>\n",
              "      <td>1.0</td>\n",
              "    </tr>\n",
              "    <tr>\n",
              "      <th>card_on_file</th>\n",
              "      <td>20000.0</td>\n",
              "      <td>0.500150</td>\n",
              "      <td>0.500012</td>\n",
              "      <td>0.00</td>\n",
              "      <td>0.00</td>\n",
              "      <td>1.00</td>\n",
              "      <td>1.0000</td>\n",
              "      <td>1.0</td>\n",
              "    </tr>\n",
              "    <tr>\n",
              "      <th>age</th>\n",
              "      <td>20000.0</td>\n",
              "      <td>29.890900</td>\n",
              "      <td>10.037736</td>\n",
              "      <td>-12.00</td>\n",
              "      <td>23.00</td>\n",
              "      <td>30.00</td>\n",
              "      <td>37.0000</td>\n",
              "      <td>71.0</td>\n",
              "    </tr>\n",
              "    <tr>\n",
              "      <th>days_since_last_purch</th>\n",
              "      <td>20000.0</td>\n",
              "      <td>39.824000</td>\n",
              "      <td>12.539896</td>\n",
              "      <td>-9.00</td>\n",
              "      <td>31.00</td>\n",
              "      <td>40.00</td>\n",
              "      <td>48.0000</td>\n",
              "      <td>87.0</td>\n",
              "    </tr>\n",
              "  </tbody>\n",
              "</table>\n",
              "</div>"
            ],
            "text/plain": [
              "                         count       mean        std  ...    50%      75%    max\n",
              "purch_amt              20000.0  53.933842  20.072442  ...  54.17  67.4125  142.2\n",
              "gender                 20000.0   0.504650   0.499991  ...   1.00   1.0000    1.0\n",
              "card_on_file           20000.0   0.500150   0.500012  ...   1.00   1.0000    1.0\n",
              "age                    20000.0  29.890900  10.037736  ...  30.00  37.0000   71.0\n",
              "days_since_last_purch  20000.0  39.824000  12.539896  ...  40.00  48.0000   87.0\n",
              "\n",
              "[5 rows x 8 columns]"
            ]
          },
          "metadata": {
            "tags": []
          },
          "execution_count": 135
        }
      ]
    },
    {
      "cell_type": "markdown",
      "metadata": {
        "id": "7ilm1EEn2p5I",
        "colab_type": "text"
      },
      "source": [
        "As expected, \"loyal\" customers seem to be slightly older, spend more per purchase and have less days since the last purchas,e as compared to there \"non-loyal\" counterparts. "
      ]
    },
    {
      "cell_type": "markdown",
      "metadata": {
        "id": "I-1XIPzDvWiB",
        "colab_type": "text"
      },
      "source": [
        "**FEATURE ENGINEEERING**\n",
        "\n",
        "I can possibly create some new features here included age categories and purchase amounts but I do not think it will  be that helpful given the above information. "
      ]
    },
    {
      "cell_type": "markdown",
      "metadata": {
        "id": "4edAczLIyNgP",
        "colab_type": "text"
      },
      "source": [
        "**SUPERVISED LEARNING - CLASSIFICATION**\n",
        "\n",
        "This is a classification problem. As a result, I will use a randome forrest classifier to predict which customers are loyal. Once the model has been trained and tested I will extract the most important features to determine what type of customers will join a loyalty program. "
      ]
    },
    {
      "cell_type": "code",
      "metadata": {
        "id": "uUzfA2eb43_t",
        "colab_type": "code",
        "colab": {}
      },
      "source": [
        "#Convert Loyalty to a binary problem for easy modeling\n",
        "df['loyalty'] = df['loyalty'].map({True:1, False:0})"
      ],
      "execution_count": 0,
      "outputs": []
    },
    {
      "cell_type": "code",
      "metadata": {
        "id": "UevEbo1g8UhK",
        "colab_type": "code",
        "colab": {
          "base_uri": "https://localhost:8080/",
          "height": 204
        },
        "outputId": "50214d0d-bb02-44ec-99f7-49b702272dc9"
      },
      "source": [
        "df.head()"
      ],
      "execution_count": 142,
      "outputs": [
        {
          "output_type": "execute_result",
          "data": {
            "text/html": [
              "<div>\n",
              "<style scoped>\n",
              "    .dataframe tbody tr th:only-of-type {\n",
              "        vertical-align: middle;\n",
              "    }\n",
              "\n",
              "    .dataframe tbody tr th {\n",
              "        vertical-align: top;\n",
              "    }\n",
              "\n",
              "    .dataframe thead th {\n",
              "        text-align: right;\n",
              "    }\n",
              "</style>\n",
              "<table border=\"1\" class=\"dataframe\">\n",
              "  <thead>\n",
              "    <tr style=\"text-align: right;\">\n",
              "      <th></th>\n",
              "      <th>purch_amt</th>\n",
              "      <th>gender</th>\n",
              "      <th>card_on_file</th>\n",
              "      <th>age</th>\n",
              "      <th>days_since_last_purch</th>\n",
              "      <th>loyalty</th>\n",
              "    </tr>\n",
              "  </thead>\n",
              "  <tbody>\n",
              "    <tr>\n",
              "      <th>0</th>\n",
              "      <td>19.58</td>\n",
              "      <td>1</td>\n",
              "      <td>0</td>\n",
              "      <td>31.0</td>\n",
              "      <td>35.0</td>\n",
              "      <td>0</td>\n",
              "    </tr>\n",
              "    <tr>\n",
              "      <th>1</th>\n",
              "      <td>65.16</td>\n",
              "      <td>1</td>\n",
              "      <td>1</td>\n",
              "      <td>23.0</td>\n",
              "      <td>61.0</td>\n",
              "      <td>0</td>\n",
              "    </tr>\n",
              "    <tr>\n",
              "      <th>2</th>\n",
              "      <td>40.60</td>\n",
              "      <td>0</td>\n",
              "      <td>0</td>\n",
              "      <td>36.0</td>\n",
              "      <td>49.0</td>\n",
              "      <td>0</td>\n",
              "    </tr>\n",
              "    <tr>\n",
              "      <th>3</th>\n",
              "      <td>38.01</td>\n",
              "      <td>1</td>\n",
              "      <td>1</td>\n",
              "      <td>47.0</td>\n",
              "      <td>57.0</td>\n",
              "      <td>0</td>\n",
              "    </tr>\n",
              "    <tr>\n",
              "      <th>4</th>\n",
              "      <td>22.32</td>\n",
              "      <td>0</td>\n",
              "      <td>1</td>\n",
              "      <td>5.0</td>\n",
              "      <td>39.0</td>\n",
              "      <td>0</td>\n",
              "    </tr>\n",
              "  </tbody>\n",
              "</table>\n",
              "</div>"
            ],
            "text/plain": [
              "   purch_amt  gender  card_on_file   age  days_since_last_purch  loyalty\n",
              "0      19.58       1             0  31.0                   35.0        0\n",
              "1      65.16       1             1  23.0                   61.0        0\n",
              "2      40.60       0             0  36.0                   49.0        0\n",
              "3      38.01       1             1  47.0                   57.0        0\n",
              "4      22.32       0             1   5.0                   39.0        0"
            ]
          },
          "metadata": {
            "tags": []
          },
          "execution_count": 142
        }
      ]
    },
    {
      "cell_type": "code",
      "metadata": {
        "id": "Jp4iAirj0B0E",
        "colab_type": "code",
        "colab": {}
      },
      "source": [
        "#Define X and Y \n",
        "Y = df.loyalty                       \n",
        "list = ['loyalty']\n",
        "X= df.drop(list,axis = 1 ) #x is our set of features "
      ],
      "execution_count": 0,
      "outputs": []
    },
    {
      "cell_type": "code",
      "metadata": {
        "id": "JsXty2w43XnP",
        "colab_type": "code",
        "colab": {}
      },
      "source": [
        "# Train, test, split\n",
        "from sklearn.model_selection import train_test_split\n",
        "x_train, x_test, y_train, y_test = train_test_split(X,Y, test_size = .30, \n",
        "                                                        random_state= 0)"
      ],
      "execution_count": 0,
      "outputs": []
    },
    {
      "cell_type": "code",
      "metadata": {
        "id": "u4B6q3JS4TQg",
        "colab_type": "code",
        "colab": {
          "base_uri": "https://localhost:8080/",
          "height": 51
        },
        "outputId": "0c9fb4d9-0ad8-4765-ff4f-b6771dcec3a5"
      },
      "source": [
        "# Examine shape of data sets\n",
        "print('Training size:', x_train.shape, y_train.shape)\n",
        "print('Test size:', x_test.shape, y_test.shape)"
      ],
      "execution_count": 145,
      "outputs": [
        {
          "output_type": "stream",
          "text": [
            "Training size: (84000, 5) (84000,)\n",
            "Test size: (36000, 5) (36000,)\n"
          ],
          "name": "stdout"
        }
      ]
    },
    {
      "cell_type": "code",
      "metadata": {
        "id": "FlnrrLWp3n8L",
        "colab_type": "code",
        "colab": {
          "base_uri": "https://localhost:8080/",
          "height": 122
        },
        "outputId": "5464b316-adb2-49a5-864a-b1a4dbdca2ef"
      },
      "source": [
        "#MODEL #1 Random Forrest \n",
        "rfc = ensemble.RandomForestClassifier()  #If I had more time I could use gridsearch for hyperparameter tuning\n",
        "\n",
        "fit = rfc.fit(x_train, y_train)\n",
        "y_pred= rfc.predict(x_test)\n",
        "\n",
        "print('Training set score:', rfc.score(x_train, y_train))\n",
        "print('\\nTest set score:', rfc.score(x_test, y_test))"
      ],
      "execution_count": 146,
      "outputs": [
        {
          "output_type": "stream",
          "text": [
            "/usr/local/lib/python3.6/dist-packages/sklearn/ensemble/forest.py:245: FutureWarning: The default value of n_estimators will change from 10 in version 0.20 to 100 in 0.22.\n",
            "  \"10 in version 0.20 to 100 in 0.22.\", FutureWarning)\n"
          ],
          "name": "stderr"
        },
        {
          "output_type": "stream",
          "text": [
            "Training set score: 0.9848214285714286\n",
            "\n",
            "Test set score: 0.8485277777777778\n"
          ],
          "name": "stdout"
        }
      ]
    },
    {
      "cell_type": "markdown",
      "metadata": {
        "id": "JWviizsQ6oRD",
        "colab_type": "text"
      },
      "source": [
        "The model seems to overfit but overal the scores are pretty good. Let's use cross validation to see if that is the case. "
      ]
    },
    {
      "cell_type": "code",
      "metadata": {
        "id": "n-_3dKYo8CAJ",
        "colab_type": "code",
        "colab": {
          "base_uri": "https://localhost:8080/",
          "height": 34
        },
        "outputId": "e0252dd0-84ed-4cf3-cc92-13caf3ee3533"
      },
      "source": [
        "from sklearn.model_selection import cross_val_score\n",
        "cross_val_score(rfc, X, Y, cv=5)"
      ],
      "execution_count": 147,
      "outputs": [
        {
          "output_type": "execute_result",
          "data": {
            "text/plain": [
              "array([0.84791667, 0.84358333, 0.84704167, 0.84970833, 0.848     ])"
            ]
          },
          "metadata": {
            "tags": []
          },
          "execution_count": 147
        }
      ]
    },
    {
      "cell_type": "code",
      "metadata": {
        "id": "PoZt1rTe61mr",
        "colab_type": "code",
        "colab": {
          "base_uri": "https://localhost:8080/",
          "height": 269
        },
        "outputId": "65f2ece2-6b41-488b-b357-7f9d4d8b4895"
      },
      "source": [
        "# Create a confusion matrix\n",
        "cm = confusion_matrix(y_test, y_pred)\n",
        "ax= plt.subplot()\n",
        "sns.heatmap(cm, annot=True, ax = ax); #annot=True to annotate cells"
      ],
      "execution_count": 152,
      "outputs": [
        {
          "output_type": "display_data",
          "data": {
            "image/png": "[encoded data removed]",
            "text/plain": [
              "<Figure size 432x288 with 2 Axes>"
            ]
          },
          "metadata": {
            "tags": []
          }
        }
      ]
    },
    {
      "cell_type": "code",
      "metadata": {
        "id": "12wd0SZK-ESy",
        "colab_type": "code",
        "colab": {
          "base_uri": "https://localhost:8080/",
          "height": 102
        },
        "outputId": "622dec73-8963-4cf4-e85e-638b2e6180dd"
      },
      "source": [
        "#Find the most important features from the rfc \n",
        "\n",
        "# Create a list of feature names\n",
        "feat_labels = ['purch_amt',\t'gender',\t'card_on_file',\t'age',\t'days_since_last_purch']\n",
        "\n",
        "# Print the name and gini importance of each feature\n",
        "for feature in zip(feat_labels, rfc.feature_importances_):\n",
        "    print(feature)"
      ],
      "execution_count": 154,
      "outputs": [
        {
          "output_type": "stream",
          "text": [
            "('purch_amt', 0.41716713190339066)\n",
            "('gender', 0.01798590080719672)\n",
            "('card_on_file', 0.017608860108738984)\n",
            "('age', 0.17599407209984644)\n",
            "('days_since_last_purch', 0.37124403508082715)\n"
          ],
          "name": "stdout"
        }
      ]
    },
    {
      "cell_type": "markdown",
      "metadata": {
        "id": "m5B6khzPAYjp",
        "colab_type": "text"
      },
      "source": [
        "The purchase amount and days since last purchase are our most important features when it comes to predicted if a customer is \"loyal\". \n"
      ]
    },
    {
      "cell_type": "code",
      "metadata": {
        "id": "cN42nhiLA1jf",
        "colab_type": "code",
        "colab": {}
      },
      "source": [
        "# MODEL 2 RFC - Important Features \n",
        "# Run the model with only the important features \n",
        "\n",
        "#Redefine X and Y \n",
        "\n",
        "Y = df.loyalty                       \n",
        "list_imp = ['loyalty', 'gender', 'age', 'card_on_file']\n",
        "\n",
        "x_imp = df.drop(list_imp, axis = 1 ) #x is our set of features \n",
        "\n",
        "y_imp = df.loyalty "
      ],
      "execution_count": 0,
      "outputs": []
    },
    {
      "cell_type": "code",
      "metadata": {
        "id": "TcblG8oJBhP4",
        "colab_type": "code",
        "colab": {}
      },
      "source": [
        "# Train, test, split\n",
        "from sklearn.model_selection import train_test_split\n",
        "x2_train, x2_test, y2_train, y2_test = train_test_split(x_imp,y_imp, test_size = .30, \n",
        "                                                        random_state= 0)"
      ],
      "execution_count": 0,
      "outputs": []
    },
    {
      "cell_type": "code",
      "metadata": {
        "id": "rPqnIEO1BsJR",
        "colab_type": "code",
        "colab": {
          "base_uri": "https://localhost:8080/",
          "height": 68
        },
        "outputId": "ba2c86f0-29a5-4691-a088-96167da58a0e"
      },
      "source": [
        "fit2 = rfc.fit(x2_train, y2_train)\n",
        "y_pred2= rfc.predict(x2_test)\n",
        "\n",
        "print('Training set score:', rfc.score(x2_train, y2_train))\n",
        "print('\\nTest set score:', rfc.score(x2_test, y2_test))"
      ],
      "execution_count": 157,
      "outputs": [
        {
          "output_type": "stream",
          "text": [
            "Training set score: 0.9656190476190476\n",
            "\n",
            "Test set score: 0.8168055555555556\n"
          ],
          "name": "stdout"
        }
      ]
    },
    {
      "cell_type": "code",
      "metadata": {
        "id": "PhOxROYFB6if",
        "colab_type": "code",
        "colab": {
          "base_uri": "https://localhost:8080/",
          "height": 34
        },
        "outputId": "d855c739-ce0b-402a-eaa4-0c6a775d74dc"
      },
      "source": [
        "from sklearn.model_selection import cross_val_score\n",
        "cross_val_score(rfc, x_imp, y_imp, cv=5)"
      ],
      "execution_count": 158,
      "outputs": [
        {
          "output_type": "execute_result",
          "data": {
            "text/plain": [
              "array([0.81658333, 0.81641667, 0.81758333, 0.81754167, 0.81745833])"
            ]
          },
          "metadata": {
            "tags": []
          },
          "execution_count": 158
        }
      ]
    },
    {
      "cell_type": "code",
      "metadata": {
        "id": "uOcgTb-07rDe",
        "colab_type": "code",
        "colab": {
          "base_uri": "https://localhost:8080/",
          "height": 68
        },
        "outputId": "687a950d-0914-422e-87d9-add8104a7f03"
      },
      "source": [
        "# EXTRA - Other Model Types - Supervised Neural Netword \n",
        "\n",
        "# Import the model.\n",
        "from sklearn.neural_network import MLPClassifier\n",
        "\n",
        "# Establish and fit the model, with a single, 1000 perceptron layer.\n",
        "mlp = MLPClassifier(hidden_layer_sizes=(1000,))\n",
        "mlp.fit(x_train, y_train)\n",
        "print('Training set score:', mlp.score(x_train, y_train))\n",
        "print('\\nTest set score:', mlp.score(x_test, y_test))"
      ],
      "execution_count": 151,
      "outputs": [
        {
          "output_type": "stream",
          "text": [
            "Training set score: 0.8687738095238096\n",
            "\n",
            "Test set score: 0.8680833333333333\n"
          ],
          "name": "stdout"
        }
      ]
    }
  ]
}