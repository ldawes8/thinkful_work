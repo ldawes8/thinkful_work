{
 "cells": [
  {
   "cell_type": "code",
   "execution_count": 3,
   "metadata": {},
   "outputs": [],
   "source": [
    "import pandas as pd\n",
    "import numpy as np\n",
    "import seaborn as sns\n",
    "import matplotlib.pyplot as plt\n",
    "%matplotlib inline\n",
    "import scipy as sp \n",
    "import sklearn"
   ]
  },
  {
   "cell_type": "code",
   "execution_count": 4,
   "metadata": {},
   "outputs": [],
   "source": [
    "path_to_file ='C:/Users/etusk/Documents/nyc-rolling-sales.csv'\n",
    "df = pd.read_csv(path_to_file)"
   ]
  },
  {
   "cell_type": "code",
   "execution_count": 3,
   "metadata": {
    "scrolled": false
   },
   "outputs": [
    {
     "data": {
      "text/html": [
       "<div>\n",
       "<style scoped>\n",
       "    .dataframe tbody tr th:only-of-type {\n",
       "        vertical-align: middle;\n",
       "    }\n",
       "\n",
       "    .dataframe tbody tr th {\n",
       "        vertical-align: top;\n",
       "    }\n",
       "\n",
       "    .dataframe thead th {\n",
       "        text-align: right;\n",
       "    }\n",
       "</style>\n",
       "<table border=\"1\" class=\"dataframe\">\n",
       "  <thead>\n",
       "    <tr style=\"text-align: right;\">\n",
       "      <th></th>\n",
       "      <th>Unnamed: 0</th>\n",
       "      <th>BOROUGH</th>\n",
       "      <th>NEIGHBORHOOD</th>\n",
       "      <th>BUILDING CLASS CATEGORY</th>\n",
       "      <th>TAX CLASS AT PRESENT</th>\n",
       "      <th>BLOCK</th>\n",
       "      <th>LOT</th>\n",
       "      <th>EASE-MENT</th>\n",
       "      <th>BUILDING CLASS AT PRESENT</th>\n",
       "      <th>ADDRESS</th>\n",
       "      <th>...</th>\n",
       "      <th>RESIDENTIAL UNITS</th>\n",
       "      <th>COMMERCIAL UNITS</th>\n",
       "      <th>TOTAL UNITS</th>\n",
       "      <th>LAND SQUARE FEET</th>\n",
       "      <th>GROSS SQUARE FEET</th>\n",
       "      <th>YEAR BUILT</th>\n",
       "      <th>TAX CLASS AT TIME OF SALE</th>\n",
       "      <th>BUILDING CLASS AT TIME OF SALE</th>\n",
       "      <th>SALE PRICE</th>\n",
       "      <th>SALE DATE</th>\n",
       "    </tr>\n",
       "  </thead>\n",
       "  <tbody>\n",
       "    <tr>\n",
       "      <th>0</th>\n",
       "      <td>4</td>\n",
       "      <td>1</td>\n",
       "      <td>ALPHABET CITY</td>\n",
       "      <td>07 RENTALS - WALKUP APARTMENTS</td>\n",
       "      <td>2A</td>\n",
       "      <td>392</td>\n",
       "      <td>6</td>\n",
       "      <td></td>\n",
       "      <td>C2</td>\n",
       "      <td>153 AVENUE B</td>\n",
       "      <td>...</td>\n",
       "      <td>5</td>\n",
       "      <td>0</td>\n",
       "      <td>5</td>\n",
       "      <td>1633</td>\n",
       "      <td>6440</td>\n",
       "      <td>1900</td>\n",
       "      <td>2</td>\n",
       "      <td>C2</td>\n",
       "      <td>6625000</td>\n",
       "      <td>7/19/2017 0:00</td>\n",
       "    </tr>\n",
       "    <tr>\n",
       "      <th>1</th>\n",
       "      <td>5</td>\n",
       "      <td>1</td>\n",
       "      <td>ALPHABET CITY</td>\n",
       "      <td>07 RENTALS - WALKUP APARTMENTS</td>\n",
       "      <td>2</td>\n",
       "      <td>399</td>\n",
       "      <td>26</td>\n",
       "      <td></td>\n",
       "      <td>C7</td>\n",
       "      <td>234 EAST 4TH   STREET</td>\n",
       "      <td>...</td>\n",
       "      <td>28</td>\n",
       "      <td>3</td>\n",
       "      <td>31</td>\n",
       "      <td>4616</td>\n",
       "      <td>18690</td>\n",
       "      <td>1900</td>\n",
       "      <td>2</td>\n",
       "      <td>C7</td>\n",
       "      <td>-</td>\n",
       "      <td>12/14/2016 0:00</td>\n",
       "    </tr>\n",
       "    <tr>\n",
       "      <th>2</th>\n",
       "      <td>6</td>\n",
       "      <td>1</td>\n",
       "      <td>ALPHABET CITY</td>\n",
       "      <td>07 RENTALS - WALKUP APARTMENTS</td>\n",
       "      <td>2</td>\n",
       "      <td>399</td>\n",
       "      <td>39</td>\n",
       "      <td></td>\n",
       "      <td>C7</td>\n",
       "      <td>197 EAST 3RD   STREET</td>\n",
       "      <td>...</td>\n",
       "      <td>16</td>\n",
       "      <td>1</td>\n",
       "      <td>17</td>\n",
       "      <td>2212</td>\n",
       "      <td>7803</td>\n",
       "      <td>1900</td>\n",
       "      <td>2</td>\n",
       "      <td>C7</td>\n",
       "      <td>-</td>\n",
       "      <td>12/9/2016 0:00</td>\n",
       "    </tr>\n",
       "    <tr>\n",
       "      <th>3</th>\n",
       "      <td>7</td>\n",
       "      <td>1</td>\n",
       "      <td>ALPHABET CITY</td>\n",
       "      <td>07 RENTALS - WALKUP APARTMENTS</td>\n",
       "      <td>2B</td>\n",
       "      <td>402</td>\n",
       "      <td>21</td>\n",
       "      <td></td>\n",
       "      <td>C4</td>\n",
       "      <td>154 EAST 7TH STREET</td>\n",
       "      <td>...</td>\n",
       "      <td>10</td>\n",
       "      <td>0</td>\n",
       "      <td>10</td>\n",
       "      <td>2272</td>\n",
       "      <td>6794</td>\n",
       "      <td>1913</td>\n",
       "      <td>2</td>\n",
       "      <td>C4</td>\n",
       "      <td>3936272</td>\n",
       "      <td>9/23/2016 0:00</td>\n",
       "    </tr>\n",
       "    <tr>\n",
       "      <th>4</th>\n",
       "      <td>8</td>\n",
       "      <td>1</td>\n",
       "      <td>ALPHABET CITY</td>\n",
       "      <td>07 RENTALS - WALKUP APARTMENTS</td>\n",
       "      <td>2A</td>\n",
       "      <td>404</td>\n",
       "      <td>55</td>\n",
       "      <td></td>\n",
       "      <td>C2</td>\n",
       "      <td>301 EAST 10TH   STREET</td>\n",
       "      <td>...</td>\n",
       "      <td>6</td>\n",
       "      <td>0</td>\n",
       "      <td>6</td>\n",
       "      <td>2369</td>\n",
       "      <td>4615</td>\n",
       "      <td>1900</td>\n",
       "      <td>2</td>\n",
       "      <td>C2</td>\n",
       "      <td>8000000</td>\n",
       "      <td>11/17/2016 0:00</td>\n",
       "    </tr>\n",
       "  </tbody>\n",
       "</table>\n",
       "<p>5 rows × 22 columns</p>\n",
       "</div>"
      ],
      "text/plain": [
       "   Unnamed: 0  BOROUGH   NEIGHBORHOOD  \\\n",
       "0           4        1  ALPHABET CITY   \n",
       "1           5        1  ALPHABET CITY   \n",
       "2           6        1  ALPHABET CITY   \n",
       "3           7        1  ALPHABET CITY   \n",
       "4           8        1  ALPHABET CITY   \n",
       "\n",
       "                       BUILDING CLASS CATEGORY TAX CLASS AT PRESENT  BLOCK  \\\n",
       "0  07 RENTALS - WALKUP APARTMENTS                                2A    392   \n",
       "1  07 RENTALS - WALKUP APARTMENTS                                 2    399   \n",
       "2  07 RENTALS - WALKUP APARTMENTS                                 2    399   \n",
       "3  07 RENTALS - WALKUP APARTMENTS                                2B    402   \n",
       "4  07 RENTALS - WALKUP APARTMENTS                                2A    404   \n",
       "\n",
       "   LOT EASE-MENT BUILDING CLASS AT PRESENT                 ADDRESS  ...  \\\n",
       "0    6                                  C2            153 AVENUE B  ...   \n",
       "1   26                                  C7   234 EAST 4TH   STREET  ...   \n",
       "2   39                                  C7   197 EAST 3RD   STREET  ...   \n",
       "3   21                                  C4     154 EAST 7TH STREET  ...   \n",
       "4   55                                  C2  301 EAST 10TH   STREET  ...   \n",
       "\n",
       "  RESIDENTIAL UNITS  COMMERCIAL UNITS  TOTAL UNITS  LAND SQUARE FEET  \\\n",
       "0                 5                 0            5              1633   \n",
       "1                28                 3           31              4616   \n",
       "2                16                 1           17              2212   \n",
       "3                10                 0           10              2272   \n",
       "4                 6                 0            6              2369   \n",
       "\n",
       "   GROSS SQUARE FEET YEAR BUILT TAX CLASS AT TIME OF SALE  \\\n",
       "0               6440       1900                         2   \n",
       "1              18690       1900                         2   \n",
       "2               7803       1900                         2   \n",
       "3               6794       1913                         2   \n",
       "4               4615       1900                         2   \n",
       "\n",
       "   BUILDING CLASS AT TIME OF SALE  SALE PRICE        SALE DATE  \n",
       "0                              C2     6625000   7/19/2017 0:00  \n",
       "1                              C7         -    12/14/2016 0:00  \n",
       "2                              C7         -     12/9/2016 0:00  \n",
       "3                              C4     3936272   9/23/2016 0:00  \n",
       "4                              C2     8000000  11/17/2016 0:00  \n",
       "\n",
       "[5 rows x 22 columns]"
      ]
     },
     "execution_count": 3,
     "metadata": {},
     "output_type": "execute_result"
    }
   ],
   "source": [
    "#Outcome Variable = Sale Price\n",
    "#Categorical Variables = Neighborhood, Building Class\n",
    "#Continuous Variables = Block, Gross Square Feet, Total Units \n",
    "#Research Question = What factors cause NYC building prices to rise? \n",
    "df.head()"
   ]
  },
  {
   "cell_type": "code",
   "execution_count": 6,
   "metadata": {},
   "outputs": [],
   "source": [
    "df.columns = ['Unnamed: 0', 'borough', 'neighborhood','building_class category','tax_class_at_present', 'block', 'lot', 'ease_ment','building_class_at_present', 'address', 'apartment_number', 'zip_code',\n",
    "       'residential_units', 'commercial_units', 'total_units','land_square_feet', 'gross_square_feet', 'year_built','tax_class_at_time_of_sale', 'building_class_at_time_of_sale',\n",
    "       'sale_price', 'sale_date']"
   ]
  },
  {
   "cell_type": "code",
   "execution_count": 5,
   "metadata": {},
   "outputs": [
    {
     "name": "stdout",
     "output_type": "stream",
     "text": [
      "(84548, 22)\n"
     ]
    }
   ],
   "source": [
    "#Step 1 - Exploratory Analysis\n",
    "print (df.shape) #84548 rows and 22 columns"
   ]
  },
  {
   "cell_type": "code",
   "execution_count": 6,
   "metadata": {
    "scrolled": true
   },
   "outputs": [
    {
     "name": "stdout",
     "output_type": "stream",
     "text": [
      "         Unnamed: 0       borough         block           lot      zip_code  \\\n",
      "count  84548.000000  84548.000000  84548.000000  84548.000000  84548.000000   \n",
      "mean   10344.359878      2.998758   4237.218976    376.224015  10731.991614   \n",
      "std     7151.779436      1.289790   3568.263407    658.136814   1290.879147   \n",
      "min        4.000000      1.000000      1.000000      1.000000      0.000000   \n",
      "25%     4231.000000      2.000000   1322.750000     22.000000  10305.000000   \n",
      "50%     8942.000000      3.000000   3311.000000     50.000000  11209.000000   \n",
      "75%    15987.250000      4.000000   6281.000000   1001.000000  11357.000000   \n",
      "max    26739.000000      5.000000  16322.000000   9106.000000  11694.000000   \n",
      "\n",
      "       residential_units  commercial_units   total_units    year_built  \\\n",
      "count       84548.000000      84548.000000  84548.000000  84548.000000   \n",
      "mean            2.025264          0.193559      2.249184   1789.322976   \n",
      "std            16.721037          8.713183     18.972584    537.344993   \n",
      "min             0.000000          0.000000      0.000000      0.000000   \n",
      "25%             0.000000          0.000000      1.000000   1920.000000   \n",
      "50%             1.000000          0.000000      1.000000   1940.000000   \n",
      "75%             2.000000          0.000000      2.000000   1965.000000   \n",
      "max          1844.000000       2261.000000   2261.000000   2017.000000   \n",
      "\n",
      "       tax_class_at_time_of_sale  \n",
      "count               84548.000000  \n",
      "mean                    1.657485  \n",
      "std                     0.819341  \n",
      "min                     1.000000  \n",
      "25%                     1.000000  \n",
      "50%                     2.000000  \n",
      "75%                     2.000000  \n",
      "max                     4.000000  \n"
     ]
    }
   ],
   "source": [
    "print(df.describe())"
   ]
  },
  {
   "cell_type": "code",
   "execution_count": 7,
   "metadata": {
    "scrolled": true
   },
   "outputs": [
    {
     "name": "stdout",
     "output_type": "stream",
     "text": [
      "Unnamed: 0                         int64\n",
      "borough                            int64\n",
      "neighborhood                      object\n",
      "building_class category           object\n",
      "tax_class_at_present              object\n",
      "block                              int64\n",
      "lot                                int64\n",
      "ease_ment                         object\n",
      "building_class_at_present         object\n",
      "address                           object\n",
      "apartment_number                  object\n",
      "zip_code                           int64\n",
      "residential_units                  int64\n",
      "commercial_units                   int64\n",
      "total_units                        int64\n",
      "land_square_feet                  object\n",
      "gross_square_feet                 object\n",
      "year_built                         int64\n",
      "tax_class_at_time_of_sale          int64\n",
      "building_class_at_time_of_sale    object\n",
      "sale_price                        object\n",
      "sale_date                         object\n",
      "dtype: object\n"
     ]
    }
   ],
   "source": [
    "print(df.dtypes)"
   ]
  },
  {
   "cell_type": "code",
   "execution_count": 8,
   "metadata": {},
   "outputs": [
    {
     "data": {
      "image/png": "[encoded data removed]",
      "text/plain": [
       "<Figure size 432x288 with 1 Axes>"
      ]
     },
     "metadata": {
      "needs_background": "light"
     },
     "output_type": "display_data"
    }
   ],
   "source": [
    "ax = sns.countplot(x=\"neighborhood\", data=df, order=pd.value_counts(df['neighborhood']).iloc[:10].index)\n",
    "ax.set_xticklabels(ax.get_xticklabels(), rotation=40, ha=\"right\")\n",
    "plt.tight_layout()\n",
    "plt.show()\n",
    "\n",
    "#Part of Exploratory Analaysis - uses a bar plot to show one categorical vs continuous \n",
    "#Counts how many buildings are in each neighborhood up to ten neighborhoods"
   ]
  },
  {
   "cell_type": "code",
   "execution_count": 5,
   "metadata": {},
   "outputs": [],
   "source": [
    "#Changing Variable types so that they align \n",
    "df['sale_price'] = pd.to_numeric(df['sale_price'], errors='coerce')\n",
    "df['land_square_feet'] = pd.to_numeric(df['land_square_feet'], errors='coerce')\n",
    "df['gross_square_feet']= pd.to_numeric(df['gross_square_feet'], errors='coerce')\n",
    "df['tax_class_at_time_of_sale'] = df['tax_class_at_time_of_sale'].astype('category')\n",
    "df['tax_class_at_present'] = df['tax_class_at_present'].astype('category')"
   ]
  },
  {
   "cell_type": "code",
   "execution_count": 6,
   "metadata": {},
   "outputs": [],
   "source": [
    "#SALE DATE is object but should be datetime #Part of Data Cleaning\n",
    "df['sale_date']    = pd.to_datetime(df['sale_date'], errors='coerce')\n",
    "df['sale_year']    = df['sale_date'].dt.year\n",
    "df['sale_month']   = df['sale_date'].dt.month\n",
    "df['sale_quarter'] = df['sale_date'].dt.quarter\n",
    "df['sale_day']     = df['sale_date'].dt.day\n",
    "df['sale_weekday'] = df['sale_date'].dt.weekday"
   ]
  },
  {
   "cell_type": "code",
   "execution_count": 7,
   "metadata": {},
   "outputs": [],
   "source": [
    "df = df.drop_duplicates(df.columns, keep='last')#deleting duplicates #Part of Data Cleaning "
   ]
  },
  {
   "cell_type": "code",
   "execution_count": 8,
   "metadata": {
    "scrolled": true
   },
   "outputs": [],
   "source": [
    "#deleted null values \n",
    "df = df[df['sale_price'].notnull()]"
   ]
  },
  {
   "cell_type": "code",
   "execution_count": 9,
   "metadata": {},
   "outputs": [],
   "source": [
    "df = df[(df['sale_price'] > 100000) & (df['sale_price'] < 5000000)]\n",
    "\n",
    "# Removes all NULL values\n",
    "df = df[df['land_square_feet'].notnull()] \n",
    "df = df[df['gross_square_feet'].notnull()] \n",
    "\n",
    "# Keeps properties with fewer than 20,000 Square Feet, which is about 2,000 Square Metres\n",
    "df = df[df['gross_square_feet'] < 20000]\n",
    "df = df[df['land_square_feet'] < 20000]"
   ]
  },
  {
   "cell_type": "code",
   "execution_count": 48,
   "metadata": {},
   "outputs": [],
   "source": [
    "#Step 2: Data Cleaning \n",
    "#Change Column Names - Changed intiallu \n",
    "#Limit number of rows, units, prices, etc. \n",
    "#Drop N/A Values "
   ]
  },
  {
   "cell_type": "code",
   "execution_count": 10,
   "metadata": {},
   "outputs": [],
   "source": [
    "#Step 2: Data Cleaning\n",
    "# deleting the Unnamed column\n",
    "del df['Unnamed: 0']"
   ]
  },
  {
   "cell_type": "code",
   "execution_count": null,
   "metadata": {},
   "outputs": [],
   "source": [
    "#g = sns.catplot(x=\"sale_price\", y=\"borough\", hue=\"neighborhood\", data=df,\n",
    "                #height=6, kind=\"bar\", palette=\"muted\")\n",
    "#g.despine(left=True)\n",
    "#g.set_ylabels(\" \")"
   ]
  },
  {
   "cell_type": "code",
   "execution_count": null,
   "metadata": {},
   "outputs": [],
   "source": [
    "(df['borough'].value_counts().head() / len(df)).plot.bar()"
   ]
  },
  {
   "cell_type": "code",
   "execution_count": 9,
   "metadata": {
    "scrolled": false
   },
   "outputs": [
    {
     "ename": "AttributeError",
     "evalue": "'dict' object has no attribute 'iteritems'",
     "output_type": "error",
     "traceback": [
      "\u001b[1;31m---------------------------------------------------------------------------\u001b[0m",
      "\u001b[1;31mAttributeError\u001b[0m                            Traceback (most recent call last)",
      "\u001b[1;32m<ipython-input-9-507316117673>\u001b[0m in \u001b[0;36m<module>\u001b[1;34m\u001b[0m\n\u001b[0;32m      6\u001b[0m                                 'FINANCIAL' : 'Downtown Manahattan', 'WEST VILLAGE':'Downtown Manhattan'}   \n\u001b[0;32m      7\u001b[0m \u001b[1;31m#iter_items is a function for key and value pairs\u001b[0m\u001b[1;33m\u001b[0m\u001b[1;33m\u001b[0m\u001b[1;33m\u001b[0m\u001b[0m\n\u001b[1;32m----> 8\u001b[1;33m \u001b[1;32mfor\u001b[0m \u001b[0mk\u001b[0m\u001b[1;33m,\u001b[0m\u001b[0mv\u001b[0m \u001b[1;32min\u001b[0m \u001b[0mdictionary\u001b[0m\u001b[1;33m.\u001b[0m\u001b[0miteritems\u001b[0m\u001b[1;33m(\u001b[0m\u001b[1;33m)\u001b[0m\u001b[1;33m:\u001b[0m\u001b[1;33m\u001b[0m\u001b[1;33m\u001b[0m\u001b[0m\n\u001b[0m\u001b[0;32m      9\u001b[0m     \u001b[0mrow_indexes\u001b[0m\u001b[1;33m=\u001b[0m\u001b[0mdf\u001b[0m\u001b[1;33m[\u001b[0m\u001b[0mdf\u001b[0m\u001b[1;33m[\u001b[0m\u001b[1;34m'neighborhood'\u001b[0m\u001b[1;33m]\u001b[0m\u001b[1;33m==\u001b[0m \u001b[1;33m(\u001b[0m\u001b[0mkey\u001b[0m\u001b[1;33m)\u001b[0m\u001b[1;33m]\u001b[0m\u001b[1;33m.\u001b[0m\u001b[0mindex\u001b[0m\u001b[1;33m\u001b[0m\u001b[1;33m\u001b[0m\u001b[0m\n\u001b[0;32m     10\u001b[0m     \u001b[0mdf\u001b[0m\u001b[1;33m.\u001b[0m\u001b[0mloc\u001b[0m\u001b[1;33m[\u001b[0m\u001b[0mrow_indexes\u001b[0m\u001b[1;33m,\u001b[0m\u001b[1;34m'region'\u001b[0m\u001b[1;33m]\u001b[0m\u001b[1;33m==\u001b[0m\u001b[1;33m(\u001b[0m\u001b[0mvalue\u001b[0m\u001b[1;33m)\u001b[0m\u001b[1;33m\u001b[0m\u001b[1;33m\u001b[0m\u001b[0m\n",
      "\u001b[1;31mAttributeError\u001b[0m: 'dict' object has no attribute 'iteritems'"
     ]
    }
   ],
   "source": [
    "#Step 3: Feature Engineering \n",
    "#1: Domain knowledge - Downtown Manhattan is a hip area and real estate prices are likely high - group by downtown manhattan \n",
    "\n",
    "dictionary = {'ALPHABET CITY':'Downtown Manhattan', 'FINANCIAL DISTRICT':'Downtown Manhattan', 'CIVIC CENTER':'Downtwon Manhattan',\n",
    "            'CHELSEA':'Downtown Manhattan', 'CHINATOWN':'Downtown Manhattan', 'CIVIC CENTER':'Downtown Manhattan', 'EAST VILLAGE': 'Downtown Manhattan', 'FASHION': 'Downtown Manhattan',\n",
    "                                'FINANCIAL' : 'Downtown Manahattan', 'WEST VILLAGE':'Downtown Manhattan'}   \n",
    "#iter_items is a function for key and value pairs \n",
    "for k,v in dictionary.iteritems():\n",
    "    row_indexes=df[df['neighborhood']== (key)].index \n",
    "    df.loc[row_indexes,'region']==(value)\n",
    "#df = df.assign(regions=regions.values)\n",
    "\n",
    "print[df['region']]\n",
    "\n"
   ]
  },
  {
   "cell_type": "code",
   "execution_count": null,
   "metadata": {},
   "outputs": [],
   "source": [
    "#2: Review Sales by season \n",
    "df['winter'] = df.loc[df['sale_month']=='12']\n",
    "print(df['sale_month'].head())\n",
    "#df['spring']\n",
    "#df['fall']\n",
    "#df['summer']\n",
    "while True:\n",
    "    date=int(input(df['sale_month']))\n",
    "    season=\"\"\n",
    "if date<=3:\n",
    "    season='winter'\n",
    "elif date>3 or <=6:\n",
    "    season='spring'\n",
    "elif date>6 or <=8:\n",
    "    season='summer'\n",
    "elif date>8 or <11:\n",
    "    season= Fall\n",
    "else:\n",
    "\n",
    "df['season'] = season\n"
   ]
  },
  {
   "cell_type": "code",
   "execution_count": 11,
   "metadata": {
    "scrolled": true
   },
   "outputs": [
    {
     "data": {
      "text/plain": [
       "<matplotlib.axes._subplots.AxesSubplot at 0x137c1890>"
      ]
     },
     "execution_count": 11,
     "metadata": {},
     "output_type": "execute_result"
    },
    {
     "data": {
      "image/png": "[encoded data removed]",
      "text/plain": [
       "<Figure size 432x288 with 1 Axes>"
      ]
     },
     "metadata": {
      "needs_background": "light"
     },
     "output_type": "display_data"
    }
   ],
   "source": [
    "#3: Combine sparse values - Total Units \n",
    "sns.set_color_codes(\"pastel\")\n",
    "sns.barplot(x=\"building_class_at_time_of_sale\", y=\"total_units\", data=df,\n",
    "            label=\"Total\", color=\"b\")\n",
    "#how to choose values for certain graphs - to change x axis is it just iloc? \n",
    "\n",
    "#4: Combine sparse values - Residential Units \n",
    "#5: Combine sparse values - Commercial Units \n",
    "#6: Create building square feet - Gross - Land \n",
    "#7: Group Building Class Category \n",
    "#8:\n",
    "#9:\n",
    "#10:"
   ]
  },
  {
   "cell_type": "code",
   "execution_count": null,
   "metadata": {},
   "outputs": [],
   "source": [
    "#Step 4: Filtering Methods #Use .filter method to figure out the best feature - PCA?  "
   ]
  }
 ],
 "metadata": {
  "kernelspec": {
   "display_name": "Python 3",
   "language": "python",
   "name": "python3"
  },
  "language_info": {
   "codemirror_mode": {
    "name": "ipython",
    "version": 3
   },
   "file_extension": ".py",
   "mimetype": "text/x-python",
   "name": "python",
   "nbconvert_exporter": "python",
   "pygments_lexer": "ipython3",
   "version": "3.7.2"
  }
 },
 "nbformat": 4,
 "nbformat_minor": 2
}
