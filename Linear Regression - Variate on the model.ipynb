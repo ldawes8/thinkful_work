{
 "cells": [
  {
   "cell_type": "code",
   "execution_count": 24,
   "metadata": {},
   "outputs": [],
   "source": [
    "import pandas as pd\n",
    "from matplotlib import pyplot as plt\n",
    "import numpy as np\n",
    "from sklearn import linear_model\n",
    "%matplotlib inline\n",
    "import seaborn as sns\n",
    "from IPython.display import display\n",
    "import math\n",
    "\n",
    "\n",
    "pd.options.display.float_format = '{:.3f}'.format\n",
    "\n",
    "# Suppress annoying harmless error.\n",
    "import warnings\n",
    "warnings.filterwarnings(action=\"ignore\", module=\"scipy\", message=\"^internal gelsd\")"
   ]
  },
  {
   "cell_type": "code",
   "execution_count": 33,
   "metadata": {
    "scrolled": false
   },
   "outputs": [
    {
     "data": {
      "text/html": [
       "<div>\n",
       "<style scoped>\n",
       "    .dataframe tbody tr th:only-of-type {\n",
       "        vertical-align: middle;\n",
       "    }\n",
       "\n",
       "    .dataframe tbody tr th {\n",
       "        vertical-align: top;\n",
       "    }\n",
       "\n",
       "    .dataframe thead th {\n",
       "        text-align: right;\n",
       "    }\n",
       "</style>\n",
       "<table border=\"1\" class=\"dataframe\">\n",
       "  <thead>\n",
       "    <tr style=\"text-align: right;\">\n",
       "      <th></th>\n",
       "      <th>Table 8</th>\n",
       "      <th>Unnamed: 1</th>\n",
       "      <th>Unnamed: 2</th>\n",
       "      <th>Unnamed: 3</th>\n",
       "      <th>Unnamed: 4</th>\n",
       "      <th>Unnamed: 5</th>\n",
       "      <th>Unnamed: 6</th>\n",
       "      <th>Unnamed: 7</th>\n",
       "      <th>Unnamed: 8</th>\n",
       "      <th>Unnamed: 9</th>\n",
       "      <th>Unnamed: 10</th>\n",
       "      <th>Unnamed: 11</th>\n",
       "      <th>Unnamed: 12</th>\n",
       "      <th>Unnamed: 13</th>\n",
       "    </tr>\n",
       "  </thead>\n",
       "  <tbody>\n",
       "    <tr>\n",
       "      <th>0</th>\n",
       "      <td>NEW YORK</td>\n",
       "      <td>NaN</td>\n",
       "      <td>NaN</td>\n",
       "      <td>NaN</td>\n",
       "      <td>NaN</td>\n",
       "      <td>NaN</td>\n",
       "      <td>NaN</td>\n",
       "      <td>NaN</td>\n",
       "      <td>NaN</td>\n",
       "      <td>NaN</td>\n",
       "      <td>NaN</td>\n",
       "      <td>NaN</td>\n",
       "      <td>NaN</td>\n",
       "      <td>nan</td>\n",
       "    </tr>\n",
       "    <tr>\n",
       "      <th>1</th>\n",
       "      <td>Offenses Known to Law Enforcement</td>\n",
       "      <td>NaN</td>\n",
       "      <td>NaN</td>\n",
       "      <td>NaN</td>\n",
       "      <td>NaN</td>\n",
       "      <td></td>\n",
       "      <td>NaN</td>\n",
       "      <td>NaN</td>\n",
       "      <td>NaN</td>\n",
       "      <td>NaN</td>\n",
       "      <td>NaN</td>\n",
       "      <td>NaN</td>\n",
       "      <td>NaN</td>\n",
       "      <td>nan</td>\n",
       "    </tr>\n",
       "    <tr>\n",
       "      <th>2</th>\n",
       "      <td>by City, 2013</td>\n",
       "      <td>NaN</td>\n",
       "      <td>NaN</td>\n",
       "      <td>NaN</td>\n",
       "      <td>NaN</td>\n",
       "      <td>NaN</td>\n",
       "      <td>NaN</td>\n",
       "      <td>NaN</td>\n",
       "      <td>NaN</td>\n",
       "      <td>NaN</td>\n",
       "      <td>NaN</td>\n",
       "      <td>NaN</td>\n",
       "      <td>NaN</td>\n",
       "      <td>nan</td>\n",
       "    </tr>\n",
       "    <tr>\n",
       "      <th>3</th>\n",
       "      <td>City</td>\n",
       "      <td>Population</td>\n",
       "      <td>Violent\\ncrime</td>\n",
       "      <td>Murder and\\nnonnegligent\\nmanslaughter</td>\n",
       "      <td>Rape\\n(revised\\ndefinition)1</td>\n",
       "      <td>Rape\\n(legacy\\ndefinition)2</td>\n",
       "      <td>Robbery</td>\n",
       "      <td>Aggravated\\nassault</td>\n",
       "      <td>Property\\ncrime</td>\n",
       "      <td>Burglary</td>\n",
       "      <td>Larceny-\\ntheft</td>\n",
       "      <td>Motor\\nvehicle\\ntheft</td>\n",
       "      <td>Arson3</td>\n",
       "      <td>nan</td>\n",
       "    </tr>\n",
       "    <tr>\n",
       "      <th>4</th>\n",
       "      <td>Adams Village</td>\n",
       "      <td>1,861</td>\n",
       "      <td>0</td>\n",
       "      <td>0</td>\n",
       "      <td>NaN</td>\n",
       "      <td>0</td>\n",
       "      <td>0</td>\n",
       "      <td>0</td>\n",
       "      <td>12</td>\n",
       "      <td>2</td>\n",
       "      <td>10</td>\n",
       "      <td>0</td>\n",
       "      <td>0</td>\n",
       "      <td>nan</td>\n",
       "    </tr>\n",
       "  </tbody>\n",
       "</table>\n",
       "</div>"
      ],
      "text/plain": [
       "                             Table 8  Unnamed: 1      Unnamed: 2  \\\n",
       "0                           NEW YORK         NaN             NaN   \n",
       "1  Offenses Known to Law Enforcement         NaN             NaN   \n",
       "2                      by City, 2013         NaN             NaN   \n",
       "3                               City  Population  Violent\\ncrime   \n",
       "4                      Adams Village       1,861               0   \n",
       "\n",
       "                               Unnamed: 3                    Unnamed: 4  \\\n",
       "0                                     NaN                           NaN   \n",
       "1                                     NaN                           NaN   \n",
       "2                                     NaN                           NaN   \n",
       "3  Murder and\\nnonnegligent\\nmanslaughter  Rape\\n(revised\\ndefinition)1   \n",
       "4                                       0                           NaN   \n",
       "\n",
       "                    Unnamed: 5 Unnamed: 6           Unnamed: 7  \\\n",
       "0                          NaN        NaN                  NaN   \n",
       "1                                     NaN                  NaN   \n",
       "2                          NaN        NaN                  NaN   \n",
       "3  Rape\\n(legacy\\ndefinition)2    Robbery  Aggravated\\nassault   \n",
       "4                            0          0                    0   \n",
       "\n",
       "        Unnamed: 8 Unnamed: 9      Unnamed: 10            Unnamed: 11  \\\n",
       "0              NaN        NaN              NaN                    NaN   \n",
       "1              NaN        NaN              NaN                    NaN   \n",
       "2              NaN        NaN              NaN                    NaN   \n",
       "3  Property\\ncrime   Burglary  Larceny-\\ntheft  Motor\\nvehicle\\ntheft   \n",
       "4               12          2               10                      0   \n",
       "\n",
       "  Unnamed: 12  Unnamed: 13  \n",
       "0         NaN          nan  \n",
       "1         NaN          nan  \n",
       "2         NaN          nan  \n",
       "3      Arson3          nan  \n",
       "4           0          nan  "
      ]
     },
     "execution_count": 33,
     "metadata": {},
     "output_type": "execute_result"
    }
   ],
   "source": [
    "path_to_file ='C:/Users/etusk/Desktop/crime_file.csv' \n",
    "df = pd.read_csv(path_to_file)\n",
    "df.head()"
   ]
  },
  {
   "cell_type": "code",
   "execution_count": 34,
   "metadata": {},
   "outputs": [],
   "source": [
    "df = df.drop([0, 1, 2,]) #dropping empty rows due to titles "
   ]
  },
  {
   "cell_type": "code",
   "execution_count": 30,
   "metadata": {},
   "outputs": [],
   "source": [
    "df.columns = df.iloc[0] #aligning the correct headers "
   ]
  },
  {
   "cell_type": "code",
   "execution_count": 35,
   "metadata": {
    "scrolled": true
   },
   "outputs": [],
   "source": [
    "df=df.drop([3]) #removed repeater header rows \n",
    "df.columns = ['city', 'population', 'violent_crime', 'murder','rape1', 'rape2', 'robbery', 'aggravated_assault', 'property_crime','burglary','theft','motor_theft','arson','none']\n",
    "df = df.drop(columns=['rape1', 'none'])\n",
    "df = df.drop([352, 353, 354])\n",
    "# first remove the commas \n",
    "df['robbery'] = df['robbery'].str.replace(',', '')\n",
    "df['population'] = df['population'].str.replace(',', '')\n",
    "df['property_crime'] = df['property_crime'].str.replace(',', '')\n",
    "df['theft'] = df['theft'].str.replace(',', '')\n",
    "df['burglary']=df['burglary'].str.replace(',','')\n",
    "#df.isin(['3,458']).any() #fixing errors - finds a value in a DF"
   ]
  },
  {
   "cell_type": "code",
   "execution_count": 36,
   "metadata": {
    "scrolled": false
   },
   "outputs": [
    {
     "name": "stdout",
     "output_type": "stream",
     "text": [
      "Total number of cities: 348\n"
     ]
    }
   ],
   "source": [
    "print('Total number of cities:', len(df['city'].unique()))"
   ]
  },
  {
   "cell_type": "code",
   "execution_count": 37,
   "metadata": {},
   "outputs": [
    {
     "data": {
      "text/plain": [
       "city                  object\n",
       "population            object\n",
       "violent_crime         object\n",
       "murder                object\n",
       "rape2                 object\n",
       "robbery               object\n",
       "aggravated_assault    object\n",
       "property_crime        object\n",
       "burglary              object\n",
       "theft                 object\n",
       "motor_theft           object\n",
       "arson                 object\n",
       "dtype: object"
      ]
     },
     "execution_count": 37,
     "metadata": {},
     "output_type": "execute_result"
    }
   ],
   "source": [
    "df.dtypes"
   ]
  },
  {
   "cell_type": "code",
   "execution_count": 38,
   "metadata": {},
   "outputs": [
    {
     "data": {
      "text/html": [
       "<div>\n",
       "<style scoped>\n",
       "    .dataframe tbody tr th:only-of-type {\n",
       "        vertical-align: middle;\n",
       "    }\n",
       "\n",
       "    .dataframe tbody tr th {\n",
       "        vertical-align: top;\n",
       "    }\n",
       "\n",
       "    .dataframe thead th {\n",
       "        text-align: right;\n",
       "    }\n",
       "</style>\n",
       "<table border=\"1\" class=\"dataframe\">\n",
       "  <thead>\n",
       "    <tr style=\"text-align: right;\">\n",
       "      <th></th>\n",
       "      <th>city</th>\n",
       "      <th>population</th>\n",
       "      <th>violent_crime</th>\n",
       "      <th>murder</th>\n",
       "      <th>rape2</th>\n",
       "      <th>robbery</th>\n",
       "      <th>aggravated_assault</th>\n",
       "      <th>property_crime</th>\n",
       "      <th>burglary</th>\n",
       "      <th>theft</th>\n",
       "      <th>motor_theft</th>\n",
       "      <th>arson</th>\n",
       "    </tr>\n",
       "  </thead>\n",
       "  <tbody>\n",
       "    <tr>\n",
       "      <th>count</th>\n",
       "      <td>348</td>\n",
       "      <td>348</td>\n",
       "      <td>348</td>\n",
       "      <td>348</td>\n",
       "      <td>348</td>\n",
       "      <td>348</td>\n",
       "      <td>348</td>\n",
       "      <td>348</td>\n",
       "      <td>348</td>\n",
       "      <td>348</td>\n",
       "      <td>348</td>\n",
       "      <td>187</td>\n",
       "    </tr>\n",
       "    <tr>\n",
       "      <th>unique</th>\n",
       "      <td>348</td>\n",
       "      <td>347</td>\n",
       "      <td>82</td>\n",
       "      <td>14</td>\n",
       "      <td>26</td>\n",
       "      <td>51</td>\n",
       "      <td>69</td>\n",
       "      <td>239</td>\n",
       "      <td>124</td>\n",
       "      <td>232</td>\n",
       "      <td>51</td>\n",
       "      <td>13</td>\n",
       "    </tr>\n",
       "    <tr>\n",
       "      <th>top</th>\n",
       "      <td>Haverstraw Town</td>\n",
       "      <td>9517</td>\n",
       "      <td>0</td>\n",
       "      <td>0</td>\n",
       "      <td>0</td>\n",
       "      <td>0</td>\n",
       "      <td>0</td>\n",
       "      <td>0</td>\n",
       "      <td>0</td>\n",
       "      <td>0</td>\n",
       "      <td>0</td>\n",
       "      <td>0</td>\n",
       "    </tr>\n",
       "    <tr>\n",
       "      <th>freq</th>\n",
       "      <td>1</td>\n",
       "      <td>2</td>\n",
       "      <td>51</td>\n",
       "      <td>299</td>\n",
       "      <td>204</td>\n",
       "      <td>139</td>\n",
       "      <td>66</td>\n",
       "      <td>6</td>\n",
       "      <td>21</td>\n",
       "      <td>7</td>\n",
       "      <td>93</td>\n",
       "      <td>133</td>\n",
       "    </tr>\n",
       "  </tbody>\n",
       "</table>\n",
       "</div>"
      ],
      "text/plain": [
       "                   city population violent_crime murder rape2 robbery  \\\n",
       "count               348        348           348    348   348     348   \n",
       "unique              348        347            82     14    26      51   \n",
       "top     Haverstraw Town       9517             0      0     0       0   \n",
       "freq                  1          2            51    299   204     139   \n",
       "\n",
       "       aggravated_assault property_crime burglary theft motor_theft arson  \n",
       "count                 348            348      348   348         348   187  \n",
       "unique                 69            239      124   232          51    13  \n",
       "top                     0              0        0     0           0     0  \n",
       "freq                   66              6       21     7          93   133  "
      ]
     },
     "execution_count": 38,
     "metadata": {},
     "output_type": "execute_result"
    }
   ],
   "source": [
    "df.describe()"
   ]
  },
  {
   "cell_type": "code",
   "execution_count": 39,
   "metadata": {},
   "outputs": [
    {
     "name": "stdout",
     "output_type": "stream",
     "text": [
      "city : 0.0 % is Nan\n",
      "population : 0.0 % is Nan\n",
      "violent_crime : 0.0 % is Nan\n",
      "murder : 0.0 % is Nan\n",
      "rape2 : 0.0 % is Nan\n",
      "robbery : 0.0 % is Nan\n",
      "aggravated_assault : 0.0 % is Nan\n",
      "property_crime : 0.0 % is Nan\n",
      "burglary : 0.0 % is Nan\n",
      "theft : 0.0 % is Nan\n",
      "motor_theft : 0.0 % is Nan\n",
      "arson : 46.264367816091955 % is Nan\n"
     ]
    }
   ],
   "source": [
    "def check_nans(df):\n",
    "    for column in df.columns.unique():\n",
    "        print(column,\":\",df[column].isnull().sum()/df.shape[0]*100 ,\"% is Nan\")\n",
    "\n",
    "check_nans(df)"
   ]
  },
  {
   "cell_type": "code",
   "execution_count": 155,
   "metadata": {},
   "outputs": [],
   "source": [
    "# Sort data by population - Look for outliers \n",
    "df.sort_values(by=['population'], ascending =False).head()\n",
    "df= df[df['city'] != 'New York'] #dropping NY to get better eresults as population is an outlier"
   ]
  },
  {
   "cell_type": "code",
   "execution_count": 40,
   "metadata": {},
   "outputs": [],
   "source": [
    "df.city = df.city.str.lstrip() #Removes whitespace \n",
    "df.city = df.city.str.rstrip()"
   ]
  },
  {
   "cell_type": "code",
   "execution_count": 41,
   "metadata": {},
   "outputs": [],
   "source": [
    "# change robbery, and population to int.\n",
    "df[['robbery', 'population', 'murder']] = df[['robbery', 'population', 'murder']].apply(pd.to_numeric)"
   ]
  },
  {
   "cell_type": "code",
   "execution_count": 42,
   "metadata": {},
   "outputs": [
    {
     "data": {
      "text/html": [
       "<div>\n",
       "<style scoped>\n",
       "    .dataframe tbody tr th:only-of-type {\n",
       "        vertical-align: middle;\n",
       "    }\n",
       "\n",
       "    .dataframe tbody tr th {\n",
       "        vertical-align: top;\n",
       "    }\n",
       "\n",
       "    .dataframe thead th {\n",
       "        text-align: right;\n",
       "    }\n",
       "</style>\n",
       "<table border=\"1\" class=\"dataframe\">\n",
       "  <thead>\n",
       "    <tr style=\"text-align: right;\">\n",
       "      <th></th>\n",
       "      <th>city</th>\n",
       "      <th>population</th>\n",
       "      <th>violent_crime</th>\n",
       "      <th>murder</th>\n",
       "      <th>rape2</th>\n",
       "      <th>robbery</th>\n",
       "      <th>aggravated_assault</th>\n",
       "      <th>property_crime</th>\n",
       "      <th>burglary</th>\n",
       "      <th>theft</th>\n",
       "      <th>motor_theft</th>\n",
       "      <th>arson</th>\n",
       "    </tr>\n",
       "  </thead>\n",
       "  <tbody>\n",
       "    <tr>\n",
       "      <th>4</th>\n",
       "      <td>Adams Village</td>\n",
       "      <td>1861</td>\n",
       "      <td>0</td>\n",
       "      <td>0</td>\n",
       "      <td>0</td>\n",
       "      <td>0</td>\n",
       "      <td>0</td>\n",
       "      <td>12</td>\n",
       "      <td>2</td>\n",
       "      <td>10</td>\n",
       "      <td>0</td>\n",
       "      <td>0</td>\n",
       "    </tr>\n",
       "    <tr>\n",
       "      <th>5</th>\n",
       "      <td>Addison Town and Village</td>\n",
       "      <td>2577</td>\n",
       "      <td>3</td>\n",
       "      <td>0</td>\n",
       "      <td>0</td>\n",
       "      <td>0</td>\n",
       "      <td>3</td>\n",
       "      <td>24</td>\n",
       "      <td>3</td>\n",
       "      <td>20</td>\n",
       "      <td>1</td>\n",
       "      <td>0</td>\n",
       "    </tr>\n",
       "    <tr>\n",
       "      <th>6</th>\n",
       "      <td>Akron Village</td>\n",
       "      <td>2846</td>\n",
       "      <td>3</td>\n",
       "      <td>0</td>\n",
       "      <td>0</td>\n",
       "      <td>0</td>\n",
       "      <td>3</td>\n",
       "      <td>16</td>\n",
       "      <td>1</td>\n",
       "      <td>15</td>\n",
       "      <td>0</td>\n",
       "      <td>0</td>\n",
       "    </tr>\n",
       "    <tr>\n",
       "      <th>7</th>\n",
       "      <td>Albany</td>\n",
       "      <td>97956</td>\n",
       "      <td>791</td>\n",
       "      <td>8</td>\n",
       "      <td>30</td>\n",
       "      <td>227</td>\n",
       "      <td>526</td>\n",
       "      <td>4090</td>\n",
       "      <td>705</td>\n",
       "      <td>3243</td>\n",
       "      <td>142</td>\n",
       "      <td>NaN</td>\n",
       "    </tr>\n",
       "    <tr>\n",
       "      <th>8</th>\n",
       "      <td>Albion Village</td>\n",
       "      <td>6388</td>\n",
       "      <td>23</td>\n",
       "      <td>0</td>\n",
       "      <td>3</td>\n",
       "      <td>4</td>\n",
       "      <td>16</td>\n",
       "      <td>223</td>\n",
       "      <td>53</td>\n",
       "      <td>165</td>\n",
       "      <td>5</td>\n",
       "      <td>NaN</td>\n",
       "    </tr>\n",
       "  </tbody>\n",
       "</table>\n",
       "</div>"
      ],
      "text/plain": [
       "                       city  population violent_crime  murder rape2  robbery  \\\n",
       "4             Adams Village        1861             0       0     0        0   \n",
       "5  Addison Town and Village        2577             3       0     0        0   \n",
       "6             Akron Village        2846             3       0     0        0   \n",
       "7                    Albany       97956           791       8    30      227   \n",
       "8            Albion Village        6388            23       0     3        4   \n",
       "\n",
       "  aggravated_assault property_crime burglary theft motor_theft arson  \n",
       "4                  0             12        2    10           0     0  \n",
       "5                  3             24        3    20           1     0  \n",
       "6                  3             16        1    15           0     0  \n",
       "7                526           4090      705  3243         142   NaN  \n",
       "8                 16            223       53   165           5   NaN  "
      ]
     },
     "execution_count": 42,
     "metadata": {},
     "output_type": "execute_result"
    }
   ],
   "source": [
    "df.head() #Data is useable\n",
    "# Generate new features based on the instruction of the assignment - Why is this necessary\n",
    "#df2['Population^2']=df2['Population']**2\n",
    "#df2['Murder_Bi']=np.where(df2['Murder and nonnegligent manslaughter']>0, 1, 0)\n",
    "#df2['Robbery_Bi']=np.where(df2['Robbery']>0, 1, 0)\n",
    "#df2.head()"
   ]
  },
  {
   "cell_type": "code",
   "execution_count": 43,
   "metadata": {
    "scrolled": true
   },
   "outputs": [
    {
     "name": "stdout",
     "output_type": "stream",
     "text": [
      "\n",
      "Coefficients: \n",
      " [[8.55207769e-04 1.27302639e+00 9.63743271e-01]]\n",
      "\n",
      "Intercept: \n",
      " [-7.91602578]\n",
      "\n",
      "R-squared:\n",
      "0.9999968758418633\n"
     ]
    }
   ],
   "source": [
    "# Instantiate and fit our model. - Seems to Overfit - What do I do now? \n",
    "regr = linear_model.LinearRegression()\n",
    "Y = df['property_crime'].values.reshape(-1, 1)\n",
    "X = df[['population','burglary', 'theft']] # check regression between one independent var and one of the dependent var - do that for all three; write a function that will pass through columns  \n",
    "regr.fit(X, Y)\n",
    "\n",
    "# Inspect the results.\n",
    "print('\\nCoefficients: \\n', regr.coef_)\n",
    "print('\\nIntercept: \\n', regr.intercept_)\n",
    "print('\\nR-squared:')\n",
    "print(regr.score(X, Y))"
   ]
  },
  {
   "cell_type": "code",
   "execution_count": 46,
   "metadata": {},
   "outputs": [
    {
     "data": {
      "image/png": "[encoded data removed]",
      "text/plain": [
       "<Figure size 432x288 with 1 Axes>"
      ]
     },
     "metadata": {
      "needs_background": "light"
     },
     "output_type": "display_data"
    },
    {
     "data": {
      "image/png": "[encoded data removed]",
      "text/plain": [
       "<Figure size 432x288 with 1 Axes>"
      ]
     },
     "metadata": {
      "needs_background": "light"
     },
     "output_type": "display_data"
    }
   ],
   "source": [
    "#Extract predicted values. - Why am I getting error? This is trying to check for multivariable normality and homoscdancity \n",
    "predicted = regr.predict(X).ravel()\n",
    "actual = Y.ravel()\n",
    "\n",
    "predicted2 = predicted.astype(float)\n",
    "actual2 = actual.astype(float)\n",
    "\n",
    "#Calculate the error, also called the residual.\n",
    "residual = actual2 - predicted2\n",
    "\n",
    "# Error histogram\n",
    "plt.hist(residual)\n",
    "plt.title('Residual counts')\n",
    "plt.xlabel('Residual')\n",
    "plt.ylabel('Count')\n",
    "plt.show()\n",
    "\n",
    "# Error scatter plot\n",
    "plt.scatter(predicted2, residual)\n",
    "plt.xlabel('Predicted')\n",
    "plt.ylabel('Residual')\n",
    "plt.axhline(y=0)\n",
    "plt.title('Residual vs. Predicted')\n",
    "plt.show()"
   ]
  },
  {
   "cell_type": "code",
   "execution_count": 53,
   "metadata": {},
   "outputs": [
    {
     "ename": "ValueError",
     "evalue": "Expected 2D array, got 1D array instead:\narray=[1.3000e+01 1.9900e+03 3.1100e+02 1.5200e+02 2.1000e+02 1.5600e+02\n 8.0000e+00 3.1000e+01 2.0600e+02 1.1200e+02 1.0000e+00 4.4200e+02\n 5.3000e+01 3.1500e+02 5.9000e+01 1.6000e+01 1.0000e+00 8.8000e+01\n 4.2000e+01 6.8000e+01 1.6500e+02 1.0000e+01 3.6000e+01 6.1000e+01\n 1.4360e+03 4.5000e+01 1.0270e+03 1.1800e+02 8.0600e+02 3.8000e+01\n 3.4600e+02 9.9000e+01 1.0990e+03 9.0000e+01 0.0000e+00 8.0000e+00\n 1.4000e+01 4.7000e+01 9.3300e+02 7.7000e+01 4.8300e+02 7.7000e+01\n 1.8400e+02 4.6000e+01 1.0400e+03 2.1000e+01 1.1000e+02 9.4000e+01\n 3.9000e+01 3.9000e+01 1.8000e+02 1.7300e+02 2.5000e+01 1.5000e+01\n 4.6000e+01 2.6000e+01 2.8800e+02 1.9850e+03 1.6400e+02 3.4800e+02\n 6.0000e+01 4.0000e+00 1.3000e+02 7.4000e+01 1.6200e+02 5.5900e+02\n 3.6000e+01 2.1800e+02 4.7000e+01 1.9200e+02 5.8600e+02 9.4000e+01\n 6.6000e+01 6.3000e+02 5.3300e+02 1.8000e+01 1.0000e+01 2.0800e+02\n 8.0000e+01 1.3530e+03 6.7200e+02 1.2000e+01 5.8000e+01 2.4300e+02\n 2.4000e+01 5.4000e+01 8.0000e+00 4.2000e+01 1.9000e+01 2.0000e+00\n 9.9000e+01 2.4000e+01 1.0200e+03 6.0000e+01 1.0000e+01 3.1000e+01\n 1.9100e+02 5.8000e+01 1.1400e+03 3.4300e+02 8.0000e+00 1.9000e+02\n 4.1600e+02 4.0400e+02 5.1000e+01 9.5800e+02 1.1670e+03 6.8700e+02\n 1.5900e+02 3.2500e+02 6.4000e+01 1.8500e+02 2.0000e+01 3.3000e+01\n 1.6100e+02 8.5200e+02 5.4700e+02 1.6000e+01 1.3400e+02 7.1500e+02\n 3.9800e+02 3.0000e+01 3.2000e+01 3.4600e+02 7.9300e+02 6.0400e+02\n 3.1000e+02 8.4000e+01 1.5000e+01 2.0000e+00 6.8000e+01 2.7600e+02\n 5.3000e+01 2.2000e+01 6.5000e+01 4.8900e+02 1.3530e+03 1.9800e+02\n 8.6000e+01 3.7300e+02 4.6000e+01 3.9700e+02 1.9800e+02 4.4000e+01\n 3.1300e+02 0.0000e+00 2.0000e+00 1.1100e+02 1.1650e+03 5.7100e+02\n 1.2491e+04 1.4700e+02 9.0000e+00 5.8000e+01 1.8100e+02 4.0500e+02\n 1.1000e+02 1.1300e+02 4.4000e+01 3.0000e+02 0.0000e+00 1.0000e+00\n 1.2000e+01 3.4000e+02 8.7000e+01 5.9000e+01 1.2500e+02 1.1000e+01\n 1.0100e+02 5.4100e+02 3.3000e+01 1.9000e+01 2.2500e+02 6.0000e+01\n 1.0700e+02 2.3000e+01 4.1000e+01 7.2000e+01 8.2900e+02 1.6400e+02\n 1.5150e+03 2.1300e+02 5.3000e+01 5.7200e+02 2.5100e+02 1.3000e+01\n 1.4200e+02 3.1700e+02 2.3030e+03 5.8000e+01 5.6700e+02 1.5800e+02\n 9.8000e+01 1.5000e+02 4.7100e+02 5.9300e+02 6.2000e+01 9.4900e+02\n 9.0000e+00 2.5000e+01 5.9000e+01 3.2000e+01 1.2800e+02 1.3000e+01\n 5.7000e+01 0.0000e+00 2.3680e+03 2.5000e+01 7.3000e+01 6.0000e+01\n 6.4900e+02 2.4800e+02 1.0000e+01 2.2000e+02 5.7800e+02 2.9000e+01\n 1.3100e+02 2.7100e+02 1.6200e+02 2.0000e+02 4.3400e+02 8.1000e+01\n 1.0400e+02 2.4000e+01 8.3000e+01 3.3000e+01 2.0000e+01 2.2300e+02\n 3.9000e+01 2.3490e+03 1.7900e+02 8.1000e+01 4.0900e+03 1.2000e+01\n 2.9200e+02 1.8000e+01 1.1400e+02 5.8000e+01 1.2320e+03 1.4000e+01\n 4.0200e+02 4.1000e+01 2.5280e+03 1.7000e+01 9.3000e+01 1.7200e+02\n 2.8400e+02 6.6200e+02 7.8700e+02 4.1000e+01 1.2600e+02 3.5000e+01\n 1.0800e+02 3.2000e+01 4.0000e+00 3.7900e+02 8.9600e+02 1.0000e+01\n 2.2000e+01 1.3390e+03 3.3000e+01 3.8000e+01 4.1000e+02 4.6900e+02\n 2.0800e+02 1.0600e+02 1.0051e+04 1.9000e+01 6.4200e+02 3.1500e+02\n 5.0000e+00 1.0300e+02 1.5200e+02 7.1000e+01 2.4200e+02 2.8070e+03\n 2.3000e+02 9.2200e+02].\nReshape your data either using array.reshape(-1, 1) if your data has a single feature or array.reshape(1, -1) if it contains a single sample.",
     "output_type": "error",
     "traceback": [
      "\u001b[1;31m---------------------------------------------------------------------------\u001b[0m",
      "\u001b[1;31mValueError\u001b[0m                                Traceback (most recent call last)",
      "\u001b[1;32m<ipython-input-53-439946327351>\u001b[0m in \u001b[0;36m<module>\u001b[1;34m\u001b[0m\n\u001b[0;32m      3\u001b[0m \u001b[1;31m# Use train_test_split to create the necessary training and test groups\u001b[0m\u001b[1;33m\u001b[0m\u001b[1;33m\u001b[0m\u001b[1;33m\u001b[0m\u001b[0m\n\u001b[0;32m      4\u001b[0m \u001b[0mX_train\u001b[0m\u001b[1;33m,\u001b[0m \u001b[0mX_test\u001b[0m\u001b[1;33m,\u001b[0m \u001b[0my_train\u001b[0m\u001b[1;33m,\u001b[0m \u001b[0my_test\u001b[0m \u001b[1;33m=\u001b[0m \u001b[0mtrain_test_split\u001b[0m\u001b[1;33m(\u001b[0m\u001b[0mactual2\u001b[0m\u001b[1;33m,\u001b[0m \u001b[0mpredicted2\u001b[0m\u001b[1;33m,\u001b[0m \u001b[0mtest_size\u001b[0m\u001b[1;33m=\u001b[0m\u001b[1;36m0.2\u001b[0m\u001b[1;33m,\u001b[0m \u001b[0mrandom_state\u001b[0m\u001b[1;33m=\u001b[0m\u001b[1;36m20\u001b[0m\u001b[1;33m)\u001b[0m\u001b[1;33m\u001b[0m\u001b[1;33m\u001b[0m\u001b[0m\n\u001b[1;32m----> 5\u001b[1;33m \u001b[0mprint\u001b[0m\u001b[1;33m(\u001b[0m\u001b[1;34m'With 20% Holdout: '\u001b[0m \u001b[1;33m+\u001b[0m \u001b[0mstr\u001b[0m\u001b[1;33m(\u001b[0m\u001b[0mregr\u001b[0m\u001b[1;33m.\u001b[0m\u001b[0mfit\u001b[0m\u001b[1;33m(\u001b[0m\u001b[0mX_train\u001b[0m\u001b[1;33m,\u001b[0m \u001b[0my_train\u001b[0m\u001b[1;33m)\u001b[0m\u001b[1;33m.\u001b[0m\u001b[0mscore\u001b[0m\u001b[1;33m(\u001b[0m\u001b[0mX_test\u001b[0m\u001b[1;33m,\u001b[0m \u001b[0my_test\u001b[0m\u001b[1;33m)\u001b[0m\u001b[1;33m)\u001b[0m\u001b[1;33m)\u001b[0m\u001b[1;33m\u001b[0m\u001b[1;33m\u001b[0m\u001b[0m\n\u001b[0m\u001b[0;32m      6\u001b[0m \u001b[0mprint\u001b[0m\u001b[1;33m(\u001b[0m\u001b[1;34m'Testing on Sample: '\u001b[0m \u001b[1;33m+\u001b[0m \u001b[0mstr\u001b[0m\u001b[1;33m(\u001b[0m\u001b[0mregr\u001b[0m\u001b[1;33m.\u001b[0m\u001b[0mfit\u001b[0m\u001b[1;33m(\u001b[0m\u001b[0mactual2\u001b[0m\u001b[1;33m,\u001b[0m \u001b[0mpredicted2\u001b[0m\u001b[1;33m)\u001b[0m\u001b[1;33m.\u001b[0m\u001b[0mscore\u001b[0m\u001b[1;33m(\u001b[0m\u001b[0mactual2\u001b[0m\u001b[1;33m,\u001b[0m \u001b[0mpredicted2\u001b[0m\u001b[1;33m)\u001b[0m\u001b[1;33m.\u001b[0m\u001b[0mreshape\u001b[0m\u001b[1;33m(\u001b[0m\u001b[1;33m-\u001b[0m\u001b[1;36m1\u001b[0m\u001b[1;33m,\u001b[0m\u001b[1;36m1\u001b[0m\u001b[1;33m)\u001b[0m\u001b[1;33m)\u001b[0m\u001b[1;33m)\u001b[0m\u001b[1;33m\u001b[0m\u001b[1;33m\u001b[0m\u001b[0m\n",
      "\u001b[1;32mc:\\users\\etusk\\appdata\\local\\programs\\python\\python37-32\\lib\\site-packages\\sklearn\\linear_model\\base.py\u001b[0m in \u001b[0;36mfit\u001b[1;34m(self, X, y, sample_weight)\u001b[0m\n\u001b[0;32m    456\u001b[0m         \u001b[0mn_jobs_\u001b[0m \u001b[1;33m=\u001b[0m \u001b[0mself\u001b[0m\u001b[1;33m.\u001b[0m\u001b[0mn_jobs\u001b[0m\u001b[1;33m\u001b[0m\u001b[1;33m\u001b[0m\u001b[0m\n\u001b[0;32m    457\u001b[0m         X, y = check_X_y(X, y, accept_sparse=['csr', 'csc', 'coo'],\n\u001b[1;32m--> 458\u001b[1;33m                          y_numeric=True, multi_output=True)\n\u001b[0m\u001b[0;32m    459\u001b[0m \u001b[1;33m\u001b[0m\u001b[0m\n\u001b[0;32m    460\u001b[0m         \u001b[1;32mif\u001b[0m \u001b[0msample_weight\u001b[0m \u001b[1;32mis\u001b[0m \u001b[1;32mnot\u001b[0m \u001b[1;32mNone\u001b[0m \u001b[1;32mand\u001b[0m \u001b[0mnp\u001b[0m\u001b[1;33m.\u001b[0m\u001b[0matleast_1d\u001b[0m\u001b[1;33m(\u001b[0m\u001b[0msample_weight\u001b[0m\u001b[1;33m)\u001b[0m\u001b[1;33m.\u001b[0m\u001b[0mndim\u001b[0m \u001b[1;33m>\u001b[0m \u001b[1;36m1\u001b[0m\u001b[1;33m:\u001b[0m\u001b[1;33m\u001b[0m\u001b[1;33m\u001b[0m\u001b[0m\n",
      "\u001b[1;32mc:\\users\\etusk\\appdata\\local\\programs\\python\\python37-32\\lib\\site-packages\\sklearn\\utils\\validation.py\u001b[0m in \u001b[0;36mcheck_X_y\u001b[1;34m(X, y, accept_sparse, accept_large_sparse, dtype, order, copy, force_all_finite, ensure_2d, allow_nd, multi_output, ensure_min_samples, ensure_min_features, y_numeric, warn_on_dtype, estimator)\u001b[0m\n\u001b[0;32m    754\u001b[0m                     \u001b[0mensure_min_features\u001b[0m\u001b[1;33m=\u001b[0m\u001b[0mensure_min_features\u001b[0m\u001b[1;33m,\u001b[0m\u001b[1;33m\u001b[0m\u001b[1;33m\u001b[0m\u001b[0m\n\u001b[0;32m    755\u001b[0m                     \u001b[0mwarn_on_dtype\u001b[0m\u001b[1;33m=\u001b[0m\u001b[0mwarn_on_dtype\u001b[0m\u001b[1;33m,\u001b[0m\u001b[1;33m\u001b[0m\u001b[1;33m\u001b[0m\u001b[0m\n\u001b[1;32m--> 756\u001b[1;33m                     estimator=estimator)\n\u001b[0m\u001b[0;32m    757\u001b[0m     \u001b[1;32mif\u001b[0m \u001b[0mmulti_output\u001b[0m\u001b[1;33m:\u001b[0m\u001b[1;33m\u001b[0m\u001b[1;33m\u001b[0m\u001b[0m\n\u001b[0;32m    758\u001b[0m         y = check_array(y, 'csr', force_all_finite=True, ensure_2d=False,\n",
      "\u001b[1;32mc:\\users\\etusk\\appdata\\local\\programs\\python\\python37-32\\lib\\site-packages\\sklearn\\utils\\validation.py\u001b[0m in \u001b[0;36mcheck_array\u001b[1;34m(array, accept_sparse, accept_large_sparse, dtype, order, copy, force_all_finite, ensure_2d, allow_nd, ensure_min_samples, ensure_min_features, warn_on_dtype, estimator)\u001b[0m\n\u001b[0;32m    550\u001b[0m                     \u001b[1;34m\"Reshape your data either using array.reshape(-1, 1) if \"\u001b[0m\u001b[1;33m\u001b[0m\u001b[1;33m\u001b[0m\u001b[0m\n\u001b[0;32m    551\u001b[0m                     \u001b[1;34m\"your data has a single feature or array.reshape(1, -1) \"\u001b[0m\u001b[1;33m\u001b[0m\u001b[1;33m\u001b[0m\u001b[0m\n\u001b[1;32m--> 552\u001b[1;33m                     \"if it contains a single sample.\".format(array))\n\u001b[0m\u001b[0;32m    553\u001b[0m \u001b[1;33m\u001b[0m\u001b[0m\n\u001b[0;32m    554\u001b[0m         \u001b[1;31m# in the future np.flexible dtypes will be handled like object dtypes\u001b[0m\u001b[1;33m\u001b[0m\u001b[1;33m\u001b[0m\u001b[1;33m\u001b[0m\u001b[0m\n",
      "\u001b[1;31mValueError\u001b[0m: Expected 2D array, got 1D array instead:\narray=[1.3000e+01 1.9900e+03 3.1100e+02 1.5200e+02 2.1000e+02 1.5600e+02\n 8.0000e+00 3.1000e+01 2.0600e+02 1.1200e+02 1.0000e+00 4.4200e+02\n 5.3000e+01 3.1500e+02 5.9000e+01 1.6000e+01 1.0000e+00 8.8000e+01\n 4.2000e+01 6.8000e+01 1.6500e+02 1.0000e+01 3.6000e+01 6.1000e+01\n 1.4360e+03 4.5000e+01 1.0270e+03 1.1800e+02 8.0600e+02 3.8000e+01\n 3.4600e+02 9.9000e+01 1.0990e+03 9.0000e+01 0.0000e+00 8.0000e+00\n 1.4000e+01 4.7000e+01 9.3300e+02 7.7000e+01 4.8300e+02 7.7000e+01\n 1.8400e+02 4.6000e+01 1.0400e+03 2.1000e+01 1.1000e+02 9.4000e+01\n 3.9000e+01 3.9000e+01 1.8000e+02 1.7300e+02 2.5000e+01 1.5000e+01\n 4.6000e+01 2.6000e+01 2.8800e+02 1.9850e+03 1.6400e+02 3.4800e+02\n 6.0000e+01 4.0000e+00 1.3000e+02 7.4000e+01 1.6200e+02 5.5900e+02\n 3.6000e+01 2.1800e+02 4.7000e+01 1.9200e+02 5.8600e+02 9.4000e+01\n 6.6000e+01 6.3000e+02 5.3300e+02 1.8000e+01 1.0000e+01 2.0800e+02\n 8.0000e+01 1.3530e+03 6.7200e+02 1.2000e+01 5.8000e+01 2.4300e+02\n 2.4000e+01 5.4000e+01 8.0000e+00 4.2000e+01 1.9000e+01 2.0000e+00\n 9.9000e+01 2.4000e+01 1.0200e+03 6.0000e+01 1.0000e+01 3.1000e+01\n 1.9100e+02 5.8000e+01 1.1400e+03 3.4300e+02 8.0000e+00 1.9000e+02\n 4.1600e+02 4.0400e+02 5.1000e+01 9.5800e+02 1.1670e+03 6.8700e+02\n 1.5900e+02 3.2500e+02 6.4000e+01 1.8500e+02 2.0000e+01 3.3000e+01\n 1.6100e+02 8.5200e+02 5.4700e+02 1.6000e+01 1.3400e+02 7.1500e+02\n 3.9800e+02 3.0000e+01 3.2000e+01 3.4600e+02 7.9300e+02 6.0400e+02\n 3.1000e+02 8.4000e+01 1.5000e+01 2.0000e+00 6.8000e+01 2.7600e+02\n 5.3000e+01 2.2000e+01 6.5000e+01 4.8900e+02 1.3530e+03 1.9800e+02\n 8.6000e+01 3.7300e+02 4.6000e+01 3.9700e+02 1.9800e+02 4.4000e+01\n 3.1300e+02 0.0000e+00 2.0000e+00 1.1100e+02 1.1650e+03 5.7100e+02\n 1.2491e+04 1.4700e+02 9.0000e+00 5.8000e+01 1.8100e+02 4.0500e+02\n 1.1000e+02 1.1300e+02 4.4000e+01 3.0000e+02 0.0000e+00 1.0000e+00\n 1.2000e+01 3.4000e+02 8.7000e+01 5.9000e+01 1.2500e+02 1.1000e+01\n 1.0100e+02 5.4100e+02 3.3000e+01 1.9000e+01 2.2500e+02 6.0000e+01\n 1.0700e+02 2.3000e+01 4.1000e+01 7.2000e+01 8.2900e+02 1.6400e+02\n 1.5150e+03 2.1300e+02 5.3000e+01 5.7200e+02 2.5100e+02 1.3000e+01\n 1.4200e+02 3.1700e+02 2.3030e+03 5.8000e+01 5.6700e+02 1.5800e+02\n 9.8000e+01 1.5000e+02 4.7100e+02 5.9300e+02 6.2000e+01 9.4900e+02\n 9.0000e+00 2.5000e+01 5.9000e+01 3.2000e+01 1.2800e+02 1.3000e+01\n 5.7000e+01 0.0000e+00 2.3680e+03 2.5000e+01 7.3000e+01 6.0000e+01\n 6.4900e+02 2.4800e+02 1.0000e+01 2.2000e+02 5.7800e+02 2.9000e+01\n 1.3100e+02 2.7100e+02 1.6200e+02 2.0000e+02 4.3400e+02 8.1000e+01\n 1.0400e+02 2.4000e+01 8.3000e+01 3.3000e+01 2.0000e+01 2.2300e+02\n 3.9000e+01 2.3490e+03 1.7900e+02 8.1000e+01 4.0900e+03 1.2000e+01\n 2.9200e+02 1.8000e+01 1.1400e+02 5.8000e+01 1.2320e+03 1.4000e+01\n 4.0200e+02 4.1000e+01 2.5280e+03 1.7000e+01 9.3000e+01 1.7200e+02\n 2.8400e+02 6.6200e+02 7.8700e+02 4.1000e+01 1.2600e+02 3.5000e+01\n 1.0800e+02 3.2000e+01 4.0000e+00 3.7900e+02 8.9600e+02 1.0000e+01\n 2.2000e+01 1.3390e+03 3.3000e+01 3.8000e+01 4.1000e+02 4.6900e+02\n 2.0800e+02 1.0600e+02 1.0051e+04 1.9000e+01 6.4200e+02 3.1500e+02\n 5.0000e+00 1.0300e+02 1.5200e+02 7.1000e+01 2.4200e+02 2.8070e+03\n 2.3000e+02 9.2200e+02].\nReshape your data either using array.reshape(-1, 1) if your data has a single feature or array.reshape(1, -1) if it contains a single sample."
     ]
    }
   ],
   "source": [
    "#Holdout Groups\n",
    "from sklearn.model_selection import train_test_split\n",
    "# Use train_test_split to create the necessary training and test groups\n",
    "X_train, X_test, y_train, y_test = train_test_split(actual2, predicted2, test_size=0.2, random_state=20)\n",
    "print('With 20% Holdout: ' + str(regr.fit(X_train, y_train).score(X_test, y_test)))\n",
    "print('Testing on Sample: ' + str(regr.fit(actual2, predicted2).score(actual2, predicted2).reshape(-1,1)))"
   ]
  },
  {
   "cell_type": "code",
   "execution_count": 54,
   "metadata": {},
   "outputs": [
    {
     "data": {
      "text/plain": [
       "array([0.99975547, 0.99906101, 0.99859186, 0.99981626, 0.99967575])"
      ]
     },
     "execution_count": 54,
     "metadata": {},
     "output_type": "execute_result"
    }
   ],
   "source": [
    "model = regr.fit(X, Y)\n",
    "\n",
    "from sklearn.model_selection import cross_val_score\n",
    "cross_val_score(model, X, Y, cv=5)"
   ]
  },
  {
   "cell_type": "code",
   "execution_count": null,
   "metadata": {},
   "outputs": [],
   "source": []
  }
 ],
 "metadata": {
  "kernelspec": {
   "display_name": "Python 3",
   "language": "python",
   "name": "python3"
  },
  "language_info": {
   "codemirror_mode": {
    "name": "ipython",
    "version": 3
   },
   "file_extension": ".py",
   "mimetype": "text/x-python",
   "name": "python",
   "nbconvert_exporter": "python",
   "pygments_lexer": "ipython3",
   "version": "3.7.2"
  }
 },
 "nbformat": 4,
 "nbformat_minor": 2
}
